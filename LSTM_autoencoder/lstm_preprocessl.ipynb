{
 "cells": [
  {
   "cell_type": "code",
   "execution_count": 2,
   "metadata": {},
   "outputs": [],
   "source": [
    "import pandas as pd\n",
    "import re\n",
    "#import nltk\n",
    "#from nltk.tokenize import word_tokenize\n"
   ]
  },
  {
   "cell_type": "code",
   "execution_count": 3,
   "metadata": {},
   "outputs": [],
   "source": [
    "df = pd.read_csv('requests.csv')\n",
    "df.columns = ['timestamp', 'userID', 'sessionID', 'expiring', 'URL']\n",
    "df.dropna(inplace=True)\n",
    "\n"
   ]
  },
  {
   "cell_type": "code",
   "execution_count": 57,
   "metadata": {},
   "outputs": [],
   "source": [
    "#df['sessionID'].nunique()\n",
    "#df['sessionID_idx'].nunique()\n",
    "# These are the same length, i.e. the conversion worked\n"
   ]
  },
  {
   "cell_type": "code",
   "execution_count": 18,
   "metadata": {},
   "outputs": [],
   "source": [
    "# This is done so the sessionID is represented numerically by the sessionID_idx column. Will use this in the LSTM.\n",
    "\n",
    "# create a dictionary-based mapping of unique session IDs to integer indices\n",
    "sessions = df['sessionID'].unique().tolist()\n",
    "session_map = {session: i for i, session in enumerate(sessions)}\n",
    "\n",
    "# create a new column with integer indices, and dropping 'sessionID' col since it will not be used\n",
    "df['sessionID_idx'] = df['sessionID'].apply(lambda x: session_map[x])\n",
    "df = df.drop('sessionID', axis=1)\n"
   ]
  },
  {
   "cell_type": "code",
   "execution_count": 4,
   "metadata": {},
   "outputs": [],
   "source": [
    "# This is done so the URL is represented numerically by theurls_idx column. Will use this in the LSTM.\n",
    "\n",
    "# create a dictionary-based mapping of unique URLs to integer indices\n",
    "urls = df['URL'].unique().tolist()\n",
    "urls_map = {urls: i for i, urls in enumerate(urls)}\n",
    "\n",
    "# create a new column with integer indices, and dropping 'URL' col since it will not be used\n",
    "df['url_idx'] = df['URL'].apply(lambda x: urls_map[x])\n",
    "df = df.drop('URL', axis=1)"
   ]
  },
  {
   "cell_type": "code",
   "execution_count": null,
   "metadata": {},
   "outputs": [],
   "source": [
    "df.to_csv('lsmt_data.csv')"
   ]
  },
  {
   "cell_type": "code",
   "execution_count": null,
   "metadata": {},
   "outputs": [],
   "source": [
    "#THE approach below gives a too small (n=12) datsets of urls to work on. Ignore for now"
   ]
  },
  {
   "cell_type": "code",
   "execution_count": 11,
   "metadata": {},
   "outputs": [],
   "source": [
    "# function for removing numbericals and '/' signs in the URLs\n",
    "def clean_url(url):\n",
    "    url = re.sub('[0-9]', '', url) # remove numeric characters and forward slashes\n",
    "    return url"
   ]
  },
  {
   "cell_type": "code",
   "execution_count": 12,
   "metadata": {},
   "outputs": [
    {
     "data": {
      "text/html": [
       "<div>\n",
       "<style scoped>\n",
       "    .dataframe tbody tr th:only-of-type {\n",
       "        vertical-align: middle;\n",
       "    }\n",
       "\n",
       "    .dataframe tbody tr th {\n",
       "        vertical-align: top;\n",
       "    }\n",
       "\n",
       "    .dataframe thead th {\n",
       "        text-align: right;\n",
       "    }\n",
       "</style>\n",
       "<table border=\"1\" class=\"dataframe\">\n",
       "  <thead>\n",
       "    <tr style=\"text-align: right;\">\n",
       "      <th></th>\n",
       "      <th>timestamp</th>\n",
       "      <th>userID</th>\n",
       "      <th>expiring</th>\n",
       "      <th>sessionID_idx</th>\n",
       "      <th>clean_url</th>\n",
       "    </tr>\n",
       "  </thead>\n",
       "  <tbody>\n",
       "    <tr>\n",
       "      <th>0</th>\n",
       "      <td>1676373343936</td>\n",
       "      <td>user-1003</td>\n",
       "      <td>1676373495816</td>\n",
       "      <td>0</td>\n",
       "      <td>/chat/send/</td>\n",
       "    </tr>\n",
       "    <tr>\n",
       "      <th>1</th>\n",
       "      <td>1676373344344</td>\n",
       "      <td>user-1005</td>\n",
       "      <td>1676373476316</td>\n",
       "      <td>1</td>\n",
       "      <td>/profile/</td>\n",
       "    </tr>\n",
       "    <tr>\n",
       "      <th>2</th>\n",
       "      <td>1676373344456</td>\n",
       "      <td>user-1003</td>\n",
       "      <td>1676373495816</td>\n",
       "      <td>0</td>\n",
       "      <td>/chat/send/</td>\n",
       "    </tr>\n",
       "    <tr>\n",
       "      <th>3</th>\n",
       "      <td>1676373344912</td>\n",
       "      <td>user-65</td>\n",
       "      <td>1676373604676</td>\n",
       "      <td>2</td>\n",
       "      <td>/searchUsers?page=</td>\n",
       "    </tr>\n",
       "    <tr>\n",
       "      <th>4</th>\n",
       "      <td>1676373345020</td>\n",
       "      <td>user-1005</td>\n",
       "      <td>1676373476316</td>\n",
       "      <td>1</td>\n",
       "      <td>/profile/</td>\n",
       "    </tr>\n",
       "    <tr>\n",
       "      <th>...</th>\n",
       "      <td>...</td>\n",
       "      <td>...</td>\n",
       "      <td>...</td>\n",
       "      <td>...</td>\n",
       "      <td>...</td>\n",
       "    </tr>\n",
       "    <tr>\n",
       "      <th>263206</th>\n",
       "      <td>1676444990852</td>\n",
       "      <td>user-629</td>\n",
       "      <td>1676445248826</td>\n",
       "      <td>9002</td>\n",
       "      <td>/profile/</td>\n",
       "    </tr>\n",
       "    <tr>\n",
       "      <th>263207</th>\n",
       "      <td>1676444991104</td>\n",
       "      <td>user-629</td>\n",
       "      <td>1676445248826</td>\n",
       "      <td>9002</td>\n",
       "      <td>/conversation/</td>\n",
       "    </tr>\n",
       "    <tr>\n",
       "      <th>263208</th>\n",
       "      <td>1676444991342</td>\n",
       "      <td>user-629</td>\n",
       "      <td>1676445248826</td>\n",
       "      <td>9002</td>\n",
       "      <td>/conversation//markAsRead</td>\n",
       "    </tr>\n",
       "    <tr>\n",
       "      <th>263209</th>\n",
       "      <td>1676444991375</td>\n",
       "      <td>user-1005</td>\n",
       "      <td>1676445040536</td>\n",
       "      <td>8965</td>\n",
       "      <td>/profile/</td>\n",
       "    </tr>\n",
       "    <tr>\n",
       "      <th>263210</th>\n",
       "      <td>1676444992110</td>\n",
       "      <td>user-1005</td>\n",
       "      <td>1676445040536</td>\n",
       "      <td>8965</td>\n",
       "      <td>/profile/</td>\n",
       "    </tr>\n",
       "  </tbody>\n",
       "</table>\n",
       "<p>263211 rows × 5 columns</p>\n",
       "</div>"
      ],
      "text/plain": [
       "            timestamp      userID       expiring  sessionID_idx  \\\n",
       "0       1676373343936   user-1003  1676373495816              0   \n",
       "1       1676373344344   user-1005  1676373476316              1   \n",
       "2       1676373344456   user-1003  1676373495816              0   \n",
       "3       1676373344912     user-65  1676373604676              2   \n",
       "4       1676373345020   user-1005  1676373476316              1   \n",
       "...               ...         ...            ...            ...   \n",
       "263206  1676444990852    user-629  1676445248826           9002   \n",
       "263207  1676444991104    user-629  1676445248826           9002   \n",
       "263208  1676444991342    user-629  1676445248826           9002   \n",
       "263209  1676444991375   user-1005  1676445040536           8965   \n",
       "263210  1676444992110   user-1005  1676445040536           8965   \n",
       "\n",
       "                         clean_url  \n",
       "0                      /chat/send/  \n",
       "1                        /profile/  \n",
       "2                      /chat/send/  \n",
       "3               /searchUsers?page=  \n",
       "4                        /profile/  \n",
       "...                            ...  \n",
       "263206                   /profile/  \n",
       "263207              /conversation/  \n",
       "263208   /conversation//markAsRead  \n",
       "263209                   /profile/  \n",
       "263210                   /profile/  \n",
       "\n",
       "[263211 rows x 5 columns]"
      ]
     },
     "execution_count": 12,
     "metadata": {},
     "output_type": "execute_result"
    }
   ],
   "source": [
    "# Dropping og URL column and replacing it with a cleaned one\n",
    "df['clean_url'] = df['URL'].apply(clean_url)\n",
    "df = df.drop('URL', axis=1)\n",
    "df"
   ]
  },
  {
   "cell_type": "code",
   "execution_count": null,
   "metadata": {},
   "outputs": [],
   "source": [
    "\"\"\"\n",
    "\n",
    "df['clean_url'].nunique() will give 12, i.e., only 12 unique urls (to little)\n",
    "\n",
    "originally it had 16321 unique urls.\n",
    "\n",
    "\"\"\"\n"
   ]
  }
 ],
 "metadata": {
  "kernelspec": {
   "display_name": ".venv",
   "language": "python",
   "name": "python3"
  },
  "language_info": {
   "codemirror_mode": {
    "name": "ipython",
    "version": 3
   },
   "file_extension": ".py",
   "mimetype": "text/x-python",
   "name": "python",
   "nbconvert_exporter": "python",
   "pygments_lexer": "ipython3",
   "version": "3.11.1"
  },
  "orig_nbformat": 4
 },
 "nbformat": 4,
 "nbformat_minor": 2
}
