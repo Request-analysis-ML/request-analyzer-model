{
 "cells": [
  {
   "cell_type": "code",
   "execution_count": null,
   "metadata": {},
   "outputs": [],
   "source": [
    "import pandas as pd"
   ]
  },
  {
   "cell_type": "code",
   "execution_count": 1,
   "metadata": {},
   "outputs": [],
   "source": [
    "\n",
    "def read_csv_file(csv_file):\n",
    "    data = pd.read_csv(csv_file)\n",
    "    data.columns = ['timestamp', 'userID', 'sessionID', 'expiring', 'URL']\n",
    "    return data"
   ]
  },
  {
   "cell_type": "code",
   "execution_count": 8,
   "metadata": {},
   "outputs": [],
   "source": [
    "\n",
    "def format_data(dataframe):\n",
    "    new_frame = dataframe\n",
    "    users = list(new_frame['userID'])\n",
    "    allUsers = new_frame.set_index(['userID']).rename_axis(None)\n",
    "    allUsers = allUsers.drop(columns=['timestamp', 'sessionID', 'expiring'])\n",
    "    df = allUsers.groupby(level=0).agg(','.join)\n",
    "    df.reset_index(inplace=True)\n",
    "    df = df.rename(columns={'index': 'users'})\n",
    "    return df\n",
    "\n",
    "\n",
    "    "
   ]
  }
 ],
 "metadata": {
  "kernelspec": {
   "display_name": "base",
   "language": "python",
   "name": "python3"
  },
  "language_info": {
   "codemirror_mode": {
    "name": "ipython",
    "version": 3
   },
   "file_extension": ".py",
   "mimetype": "text/x-python",
   "name": "python",
   "nbconvert_exporter": "python",
   "pygments_lexer": "ipython3",
   "version": "3.9.13"
  },
  "orig_nbformat": 4
 },
 "nbformat": 4,
 "nbformat_minor": 2
}
