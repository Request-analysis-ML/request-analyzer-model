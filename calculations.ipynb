{
 "cells": [
  {
   "cell_type": "code",
   "execution_count": 17,
   "metadata": {},
   "outputs": [],
   "source": [
    "from df_functions import read_csv_file, extract_users, split_user_df\n",
    "from calculations import longest_consec, calc_avg_timediff\n",
    "from sessionID_check import avg_tokens_5mins\n",
    "import pandas as pd"
   ]
  },
  {
   "cell_type": "code",
   "execution_count": 22,
   "metadata": {},
   "outputs": [
    {
     "data": {
      "text/plain": [
       "19"
      ]
     },
     "execution_count": 22,
     "metadata": {},
     "output_type": "execute_result"
    }
   ],
   "source": [
    "\"\"\"Code for fetching the data\"\"\"\n",
    "\n",
    "#Fetch data from csv file\n",
    "data = read_csv_file('requests.csv')\n",
    "\n",
    "#Extracts a list of all unique users in dataframe\n",
    "users = extract_users(data)\n",
    "\n",
    "#Fetches the first user in list\n",
    "user1 = users[1]\n",
    "\n",
    "data_chunk = split_user_df(data, user1)[0]\n",
    "\n",
    "longest_consec(data_chunk)"
   ]
  },
  {
   "cell_type": "code",
   "execution_count": 36,
   "metadata": {},
   "outputs": [],
   "source": [
    "\"\"\"\n",
    "Code for creating csv-file containing information about average request frequency, average number of tokens per 5 mins, \n",
    "longest consecutive chain of repetitive requests for every chunk of 50 requests for each user\n",
    "\"\"\"\n",
    "\n",
    "df_calculations = pd.DataFrame()\n",
    "for user in users:\n",
    "    data_chunks = split_user_df(data, user)\n",
    "    avg_req_frequences = []\n",
    "    avg_tokens = []\n",
    "    repetitions = []\n",
    "\n",
    "    for i in range(0, len(data_chunks)):\n",
    "        avg_req_frequences.append(calc_avg_timediff(data_chunks[i]))\n",
    "        avg_tokens.append(avg_tokens_5mins(data_chunks[i]))\n",
    "        repetitions.append(longest_consec(data_chunks[i]))\n",
    "    \n",
    "    user_df = pd.DataFrame()\n",
    "    user_df['request_freq'] = avg_req_frequences\n",
    "    user_df['avg_tokens'] = avg_tokens\n",
    "    user_df['longest_consec'] = repetitions\n",
    "    user_df['user'] = user\n",
    "    df_calculations = pd.concat([df_calculations, user_df])\n",
    "\n",
    "df_calculations.reset_index(inplace=True)\n",
    "df_calculations = df_calculations.drop(columns='index')\n",
    "df_calculations.to_csv('calculations.csv', index=False)    "
   ]
  }
 ],
 "metadata": {
  "kernelspec": {
   "display_name": ".venv",
   "language": "python",
   "name": "python3"
  },
  "language_info": {
   "codemirror_mode": {
    "name": "ipython",
    "version": 3
   },
   "file_extension": ".py",
   "mimetype": "text/x-python",
   "name": "python",
   "nbconvert_exporter": "python",
   "pygments_lexer": "ipython3",
   "version": "3.11.1"
  },
  "orig_nbformat": 4
 },
 "nbformat": 4,
 "nbformat_minor": 2
}
