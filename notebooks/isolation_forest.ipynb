{
 "cells": [
  {
   "cell_type": "code",
   "execution_count": 7,
   "metadata": {},
   "outputs": [],
   "source": [
    "import pandas as pd\n",
    "from sklearn.ensemble import IsolationForest\n",
    "from sklearn import metrics\n",
    "import seaborn as sns\n",
    "from train_test_divide import extract_normal, extract_spammers_scrapers\n",
    "import numpy as np\n",
    "import os\n",
    "import matplotlib.pyplot as plt"
   ]
  },
  {
   "cell_type": "code",
   "execution_count": 8,
   "metadata": {},
   "outputs": [],
   "source": [
    "#Function for labelling data\n",
    "def label_data(dataframe):\n",
    "    labels = []\n",
    "    for i in range (0, dataframe.shape[0]):\n",
    "        instance = dataframe.iloc[i]\n",
    "        if (instance['user'] == 'user-1003' or instance['user'] == 'user-1004' or instance['user'] == 'user-1005'):\n",
    "            labels.append(-1)\n",
    "        else:\n",
    "            labels.append(1)\n",
    "    dataframe['label'] = labels\n",
    "    return dataframe"
   ]
  },
  {
   "cell_type": "code",
   "execution_count": 42,
   "metadata": {},
   "outputs": [],
   "source": [
    "path = os.path.dirname(os.path.abspath(\"__file__\"))\n",
    "dir = path.replace('notebooks', 'csv_files')\n",
    "os.chdir(dir)\n",
    "\n",
    "df_anomaly_train = pd.read_csv('train.csv')\n",
    "df_anomaly_test = pd.read_csv('test.csv')\n",
    "\n",
    "anomaly_inputs = ['request_freq', 'avg_tokens', 'longest_consec', 'var_score', 'sequence_time']\n",
    "#anomaly_inputs = ['var_score', 'longest_consec']"
   ]
  },
  {
   "cell_type": "code",
   "execution_count": 43,
   "metadata": {},
   "outputs": [
    {
     "data": {
      "text/html": [
       "<style>#sk-container-id-6 {color: black;background-color: white;}#sk-container-id-6 pre{padding: 0;}#sk-container-id-6 div.sk-toggleable {background-color: white;}#sk-container-id-6 label.sk-toggleable__label {cursor: pointer;display: block;width: 100%;margin-bottom: 0;padding: 0.3em;box-sizing: border-box;text-align: center;}#sk-container-id-6 label.sk-toggleable__label-arrow:before {content: \"▸\";float: left;margin-right: 0.25em;color: #696969;}#sk-container-id-6 label.sk-toggleable__label-arrow:hover:before {color: black;}#sk-container-id-6 div.sk-estimator:hover label.sk-toggleable__label-arrow:before {color: black;}#sk-container-id-6 div.sk-toggleable__content {max-height: 0;max-width: 0;overflow: hidden;text-align: left;background-color: #f0f8ff;}#sk-container-id-6 div.sk-toggleable__content pre {margin: 0.2em;color: black;border-radius: 0.25em;background-color: #f0f8ff;}#sk-container-id-6 input.sk-toggleable__control:checked~div.sk-toggleable__content {max-height: 200px;max-width: 100%;overflow: auto;}#sk-container-id-6 input.sk-toggleable__control:checked~label.sk-toggleable__label-arrow:before {content: \"▾\";}#sk-container-id-6 div.sk-estimator input.sk-toggleable__control:checked~label.sk-toggleable__label {background-color: #d4ebff;}#sk-container-id-6 div.sk-label input.sk-toggleable__control:checked~label.sk-toggleable__label {background-color: #d4ebff;}#sk-container-id-6 input.sk-hidden--visually {border: 0;clip: rect(1px 1px 1px 1px);clip: rect(1px, 1px, 1px, 1px);height: 1px;margin: -1px;overflow: hidden;padding: 0;position: absolute;width: 1px;}#sk-container-id-6 div.sk-estimator {font-family: monospace;background-color: #f0f8ff;border: 1px dotted black;border-radius: 0.25em;box-sizing: border-box;margin-bottom: 0.5em;}#sk-container-id-6 div.sk-estimator:hover {background-color: #d4ebff;}#sk-container-id-6 div.sk-parallel-item::after {content: \"\";width: 100%;border-bottom: 1px solid gray;flex-grow: 1;}#sk-container-id-6 div.sk-label:hover label.sk-toggleable__label {background-color: #d4ebff;}#sk-container-id-6 div.sk-serial::before {content: \"\";position: absolute;border-left: 1px solid gray;box-sizing: border-box;top: 0;bottom: 0;left: 50%;z-index: 0;}#sk-container-id-6 div.sk-serial {display: flex;flex-direction: column;align-items: center;background-color: white;padding-right: 0.2em;padding-left: 0.2em;position: relative;}#sk-container-id-6 div.sk-item {position: relative;z-index: 1;}#sk-container-id-6 div.sk-parallel {display: flex;align-items: stretch;justify-content: center;background-color: white;position: relative;}#sk-container-id-6 div.sk-item::before, #sk-container-id-6 div.sk-parallel-item::before {content: \"\";position: absolute;border-left: 1px solid gray;box-sizing: border-box;top: 0;bottom: 0;left: 50%;z-index: -1;}#sk-container-id-6 div.sk-parallel-item {display: flex;flex-direction: column;z-index: 1;position: relative;background-color: white;}#sk-container-id-6 div.sk-parallel-item:first-child::after {align-self: flex-end;width: 50%;}#sk-container-id-6 div.sk-parallel-item:last-child::after {align-self: flex-start;width: 50%;}#sk-container-id-6 div.sk-parallel-item:only-child::after {width: 0;}#sk-container-id-6 div.sk-dashed-wrapped {border: 1px dashed gray;margin: 0 0.4em 0.5em 0.4em;box-sizing: border-box;padding-bottom: 0.4em;background-color: white;}#sk-container-id-6 div.sk-label label {font-family: monospace;font-weight: bold;display: inline-block;line-height: 1.2em;}#sk-container-id-6 div.sk-label-container {text-align: center;}#sk-container-id-6 div.sk-container {/* jupyter's `normalize.less` sets `[hidden] { display: none; }` but bootstrap.min.css set `[hidden] { display: none !important; }` so we also need the `!important` here to be able to override the default hidden behavior on the sphinx rendered scikit-learn.org. See: https://github.com/scikit-learn/scikit-learn/issues/21755 */display: inline-block !important;position: relative;}#sk-container-id-6 div.sk-text-repr-fallback {display: none;}</style><div id=\"sk-container-id-6\" class=\"sk-top-container\"><div class=\"sk-text-repr-fallback\"><pre>IsolationForest(contamination=0.002, random_state=42)</pre><b>In a Jupyter environment, please rerun this cell to show the HTML representation or trust the notebook. <br />On GitHub, the HTML representation is unable to render, please try loading this page with nbviewer.org.</b></div><div class=\"sk-container\" hidden><div class=\"sk-item\"><div class=\"sk-estimator sk-toggleable\"><input class=\"sk-toggleable__control sk-hidden--visually\" id=\"sk-estimator-id-6\" type=\"checkbox\" checked><label for=\"sk-estimator-id-6\" class=\"sk-toggleable__label sk-toggleable__label-arrow\">IsolationForest</label><div class=\"sk-toggleable__content\"><pre>IsolationForest(contamination=0.002, random_state=42)</pre></div></div></div></div></div>"
      ],
      "text/plain": [
       "IsolationForest(contamination=0.002, random_state=42)"
      ]
     },
     "execution_count": 43,
     "metadata": {},
     "output_type": "execute_result"
    }
   ],
   "source": [
    "model_if = IsolationForest(contamination=0.002, random_state=42)\n",
    "model_if.fit(df_anomaly_train[anomaly_inputs].values)"
   ]
  },
  {
   "cell_type": "code",
   "execution_count": 38,
   "metadata": {},
   "outputs": [
    {
     "data": {
      "text/html": [
       "<div>\n",
       "<style scoped>\n",
       "    .dataframe tbody tr th:only-of-type {\n",
       "        vertical-align: middle;\n",
       "    }\n",
       "\n",
       "    .dataframe tbody tr th {\n",
       "        vertical-align: top;\n",
       "    }\n",
       "\n",
       "    .dataframe thead th {\n",
       "        text-align: right;\n",
       "    }\n",
       "</style>\n",
       "<table border=\"1\" class=\"dataframe\">\n",
       "  <thead>\n",
       "    <tr style=\"text-align: right;\">\n",
       "      <th></th>\n",
       "      <th>request_freq</th>\n",
       "      <th>avg_tokens</th>\n",
       "      <th>longest_consec</th>\n",
       "      <th>var_score</th>\n",
       "      <th>sequence_time</th>\n",
       "      <th>user</th>\n",
       "    </tr>\n",
       "  </thead>\n",
       "  <tbody>\n",
       "    <tr>\n",
       "      <th>0</th>\n",
       "      <td>0.867778</td>\n",
       "      <td>1.0</td>\n",
       "      <td>7.0</td>\n",
       "      <td>0.000078</td>\n",
       "      <td>7.810</td>\n",
       "      <td>user-1003</td>\n",
       "    </tr>\n",
       "    <tr>\n",
       "      <th>1</th>\n",
       "      <td>1.758222</td>\n",
       "      <td>1.0</td>\n",
       "      <td>4.0</td>\n",
       "      <td>0.000055</td>\n",
       "      <td>15.824</td>\n",
       "      <td>user-1003</td>\n",
       "    </tr>\n",
       "    <tr>\n",
       "      <th>2</th>\n",
       "      <td>3.010556</td>\n",
       "      <td>1.0</td>\n",
       "      <td>4.0</td>\n",
       "      <td>0.000050</td>\n",
       "      <td>27.095</td>\n",
       "      <td>user-1003</td>\n",
       "    </tr>\n",
       "    <tr>\n",
       "      <th>3</th>\n",
       "      <td>1.561889</td>\n",
       "      <td>1.0</td>\n",
       "      <td>6.0</td>\n",
       "      <td>0.000055</td>\n",
       "      <td>14.057</td>\n",
       "      <td>user-1003</td>\n",
       "    </tr>\n",
       "    <tr>\n",
       "      <th>4</th>\n",
       "      <td>1.896667</td>\n",
       "      <td>1.0</td>\n",
       "      <td>6.0</td>\n",
       "      <td>0.000065</td>\n",
       "      <td>17.070</td>\n",
       "      <td>user-1003</td>\n",
       "    </tr>\n",
       "    <tr>\n",
       "      <th>...</th>\n",
       "      <td>...</td>\n",
       "      <td>...</td>\n",
       "      <td>...</td>\n",
       "      <td>...</td>\n",
       "      <td>...</td>\n",
       "      <td>...</td>\n",
       "    </tr>\n",
       "    <tr>\n",
       "      <th>13372</th>\n",
       "      <td>3.063000</td>\n",
       "      <td>1.0</td>\n",
       "      <td>4.0</td>\n",
       "      <td>0.000039</td>\n",
       "      <td>24.504</td>\n",
       "      <td>user-1004</td>\n",
       "    </tr>\n",
       "    <tr>\n",
       "      <th>13373</th>\n",
       "      <td>0.520000</td>\n",
       "      <td>1.0</td>\n",
       "      <td>9.0</td>\n",
       "      <td>0.000077</td>\n",
       "      <td>4.160</td>\n",
       "      <td>user-1004</td>\n",
       "    </tr>\n",
       "    <tr>\n",
       "      <th>13374</th>\n",
       "      <td>1.581250</td>\n",
       "      <td>1.0</td>\n",
       "      <td>6.0</td>\n",
       "      <td>0.000051</td>\n",
       "      <td>12.650</td>\n",
       "      <td>user-1004</td>\n",
       "    </tr>\n",
       "    <tr>\n",
       "      <th>13375</th>\n",
       "      <td>2.155500</td>\n",
       "      <td>1.0</td>\n",
       "      <td>3.0</td>\n",
       "      <td>0.000033</td>\n",
       "      <td>17.244</td>\n",
       "      <td>user-1004</td>\n",
       "    </tr>\n",
       "    <tr>\n",
       "      <th>13376</th>\n",
       "      <td>1.762500</td>\n",
       "      <td>1.0</td>\n",
       "      <td>4.0</td>\n",
       "      <td>0.000051</td>\n",
       "      <td>14.100</td>\n",
       "      <td>user-1004</td>\n",
       "    </tr>\n",
       "  </tbody>\n",
       "</table>\n",
       "<p>13377 rows × 6 columns</p>\n",
       "</div>"
      ],
      "text/plain": [
       "       request_freq  avg_tokens  longest_consec  var_score  sequence_time   \n",
       "0          0.867778         1.0             7.0   0.000078          7.810  \\\n",
       "1          1.758222         1.0             4.0   0.000055         15.824   \n",
       "2          3.010556         1.0             4.0   0.000050         27.095   \n",
       "3          1.561889         1.0             6.0   0.000055         14.057   \n",
       "4          1.896667         1.0             6.0   0.000065         17.070   \n",
       "...             ...         ...             ...        ...            ...   \n",
       "13372      3.063000         1.0             4.0   0.000039         24.504   \n",
       "13373      0.520000         1.0             9.0   0.000077          4.160   \n",
       "13374      1.581250         1.0             6.0   0.000051         12.650   \n",
       "13375      2.155500         1.0             3.0   0.000033         17.244   \n",
       "13376      1.762500         1.0             4.0   0.000051         14.100   \n",
       "\n",
       "            user  \n",
       "0      user-1003  \n",
       "1      user-1003  \n",
       "2      user-1003  \n",
       "3      user-1003  \n",
       "4      user-1003  \n",
       "...          ...  \n",
       "13372  user-1004  \n",
       "13373  user-1004  \n",
       "13374  user-1004  \n",
       "13375  user-1004  \n",
       "13376  user-1004  \n",
       "\n",
       "[13377 rows x 6 columns]"
      ]
     },
     "execution_count": 38,
     "metadata": {},
     "output_type": "execute_result"
    }
   ],
   "source": [
    "#Code for checking how many spammers and scarpers that are present in test dataset\n",
    "df_test_spam = extract_spammers_scrapers(df_anomaly_test)\n",
    "df_test_spam"
   ]
  },
  {
   "cell_type": "code",
   "execution_count": 39,
   "metadata": {},
   "outputs": [
    {
     "data": {
      "text/html": [
       "<div>\n",
       "<style scoped>\n",
       "    .dataframe tbody tr th:only-of-type {\n",
       "        vertical-align: middle;\n",
       "    }\n",
       "\n",
       "    .dataframe tbody tr th {\n",
       "        vertical-align: top;\n",
       "    }\n",
       "\n",
       "    .dataframe thead th {\n",
       "        text-align: right;\n",
       "    }\n",
       "</style>\n",
       "<table border=\"1\" class=\"dataframe\">\n",
       "  <thead>\n",
       "    <tr style=\"text-align: right;\">\n",
       "      <th></th>\n",
       "      <th>request_freq</th>\n",
       "      <th>avg_tokens</th>\n",
       "      <th>longest_consec</th>\n",
       "      <th>var_score</th>\n",
       "      <th>sequence_time</th>\n",
       "      <th>user</th>\n",
       "    </tr>\n",
       "  </thead>\n",
       "  <tbody>\n",
       "    <tr>\n",
       "      <th>13377</th>\n",
       "      <td>0.778667</td>\n",
       "      <td>1.000000</td>\n",
       "      <td>3.0</td>\n",
       "      <td>0.000029</td>\n",
       "      <td>7.008</td>\n",
       "      <td>user-65</td>\n",
       "    </tr>\n",
       "    <tr>\n",
       "      <th>13378</th>\n",
       "      <td>1.928333</td>\n",
       "      <td>1.000000</td>\n",
       "      <td>3.0</td>\n",
       "      <td>0.000032</td>\n",
       "      <td>17.355</td>\n",
       "      <td>user-65</td>\n",
       "    </tr>\n",
       "    <tr>\n",
       "      <th>13379</th>\n",
       "      <td>1.526667</td>\n",
       "      <td>1.000000</td>\n",
       "      <td>4.0</td>\n",
       "      <td>0.000029</td>\n",
       "      <td>13.740</td>\n",
       "      <td>user-65</td>\n",
       "    </tr>\n",
       "    <tr>\n",
       "      <th>13380</th>\n",
       "      <td>273.297444</td>\n",
       "      <td>0.222222</td>\n",
       "      <td>3.0</td>\n",
       "      <td>0.000023</td>\n",
       "      <td>2459.677</td>\n",
       "      <td>user-65</td>\n",
       "    </tr>\n",
       "    <tr>\n",
       "      <th>13381</th>\n",
       "      <td>2.601111</td>\n",
       "      <td>1.000000</td>\n",
       "      <td>3.0</td>\n",
       "      <td>0.000021</td>\n",
       "      <td>23.410</td>\n",
       "      <td>user-565</td>\n",
       "    </tr>\n",
       "    <tr>\n",
       "      <th>...</th>\n",
       "      <td>...</td>\n",
       "      <td>...</td>\n",
       "      <td>...</td>\n",
       "      <td>...</td>\n",
       "      <td>...</td>\n",
       "      <td>...</td>\n",
       "    </tr>\n",
       "    <tr>\n",
       "      <th>16048</th>\n",
       "      <td>2.669778</td>\n",
       "      <td>1.000000</td>\n",
       "      <td>2.0</td>\n",
       "      <td>0.000036</td>\n",
       "      <td>24.028</td>\n",
       "      <td>user-186</td>\n",
       "    </tr>\n",
       "    <tr>\n",
       "      <th>16049</th>\n",
       "      <td>1.687333</td>\n",
       "      <td>1.000000</td>\n",
       "      <td>2.0</td>\n",
       "      <td>0.000023</td>\n",
       "      <td>15.186</td>\n",
       "      <td>user-186</td>\n",
       "    </tr>\n",
       "    <tr>\n",
       "      <th>16050</th>\n",
       "      <td>1.855625</td>\n",
       "      <td>1.000000</td>\n",
       "      <td>4.0</td>\n",
       "      <td>0.000018</td>\n",
       "      <td>14.845</td>\n",
       "      <td>user-754</td>\n",
       "    </tr>\n",
       "    <tr>\n",
       "      <th>16051</th>\n",
       "      <td>2.246875</td>\n",
       "      <td>1.000000</td>\n",
       "      <td>3.0</td>\n",
       "      <td>0.000026</td>\n",
       "      <td>17.975</td>\n",
       "      <td>user-754</td>\n",
       "    </tr>\n",
       "    <tr>\n",
       "      <th>16052</th>\n",
       "      <td>51.212250</td>\n",
       "      <td>1.000000</td>\n",
       "      <td>3.0</td>\n",
       "      <td>0.000018</td>\n",
       "      <td>409.698</td>\n",
       "      <td>user-641</td>\n",
       "    </tr>\n",
       "  </tbody>\n",
       "</table>\n",
       "<p>2676 rows × 6 columns</p>\n",
       "</div>"
      ],
      "text/plain": [
       "       request_freq  avg_tokens  longest_consec  var_score  sequence_time   \n",
       "13377      0.778667    1.000000             3.0   0.000029          7.008  \\\n",
       "13378      1.928333    1.000000             3.0   0.000032         17.355   \n",
       "13379      1.526667    1.000000             4.0   0.000029         13.740   \n",
       "13380    273.297444    0.222222             3.0   0.000023       2459.677   \n",
       "13381      2.601111    1.000000             3.0   0.000021         23.410   \n",
       "...             ...         ...             ...        ...            ...   \n",
       "16048      2.669778    1.000000             2.0   0.000036         24.028   \n",
       "16049      1.687333    1.000000             2.0   0.000023         15.186   \n",
       "16050      1.855625    1.000000             4.0   0.000018         14.845   \n",
       "16051      2.246875    1.000000             3.0   0.000026         17.975   \n",
       "16052     51.212250    1.000000             3.0   0.000018        409.698   \n",
       "\n",
       "           user  \n",
       "13377   user-65  \n",
       "13378   user-65  \n",
       "13379   user-65  \n",
       "13380   user-65  \n",
       "13381  user-565  \n",
       "...         ...  \n",
       "16048  user-186  \n",
       "16049  user-186  \n",
       "16050  user-754  \n",
       "16051  user-754  \n",
       "16052  user-641  \n",
       "\n",
       "[2676 rows x 6 columns]"
      ]
     },
     "execution_count": 39,
     "metadata": {},
     "output_type": "execute_result"
    }
   ],
   "source": [
    "#Code for checking how many normal users that are present in test dataset\n",
    "df_test_normal = extract_normal(df_anomaly_test, df_test_spam)\n",
    "df_test_normal"
   ]
  },
  {
   "cell_type": "code",
   "execution_count": 47,
   "metadata": {},
   "outputs": [
    {
     "name": "stderr",
     "output_type": "stream",
     "text": [
      "c:\\Users\\vhage\\Documents\\Skolarbete\\Exjobb\\request-analyzer-model\\venv\\Lib\\site-packages\\sklearn\\base.py:432: UserWarning: X has feature names, but IsolationForest was fitted without feature names\n",
      "  warnings.warn(\n"
     ]
    },
    {
     "name": "stdout",
     "output_type": "stream",
     "text": [
      "       anomaly_score  anomaly      user\n",
      "13761      -0.004887       -1  user-671\n",
      "15139      -0.001322       -1  user-660\n",
      "15712      -0.003685       -1  user-292\n"
     ]
    }
   ],
   "source": [
    "df_anomaly_test['anomaly_score'] = model_if.decision_function(df_anomaly_test[anomaly_inputs].values)\n",
    "df_anomaly_test['anomaly'] = model_if.predict(df_anomaly_test[anomaly_inputs].values)\n",
    "\n",
    "#This dataframe will only include anomaly score and anomaly label\n",
    "df_anomaly_score = df_anomaly_test.loc[:,['anomaly_score', 'anomaly']]\n",
    "df_anomaly_score['user'] = df_anomaly_test['user']\n",
    "df_a = df_anomaly_score.loc[df_anomaly_score['anomaly']==-1] \n",
    "print(df_a)"
   ]
  },
  {
   "cell_type": "code",
   "execution_count": 371,
   "metadata": {},
   "outputs": [
    {
     "name": "stdout",
     "output_type": "stream",
     "text": [
      "2504\n",
      "48\n"
     ]
    }
   ],
   "source": [
    "spam = extract_spammers_scrapers(df_a)\n",
    "print(spam.shape[0])\n",
    "\n",
    "normal = extract_normal(df_a, spam)\n",
    "print(normal.shape[0])"
   ]
  },
  {
   "cell_type": "code",
   "execution_count": 138,
   "metadata": {},
   "outputs": [
    {
     "name": "stdout",
     "output_type": "stream",
     "text": [
      "set()\n"
     ]
    }
   ],
   "source": [
    "#To check which users thar are flagged as anomalies\n",
    "print(set(df_a['user'].to_list()))\n",
    "#print(df_anomaly_test.loc[df_anomaly_test['user']== ' user-693'])"
   ]
  },
  {
   "cell_type": "code",
   "execution_count": null,
   "metadata": {},
   "outputs": [],
   "source": [
    "#Plots showcasing the outliers detected by isolation forest\n",
    "palette = ['#ff7f0e', '#1f77b4']\n",
    "sns.pairplot(df_anomaly_test, vars=anomaly_inputs, hue='anomaly', palette=palette)"
   ]
  },
  {
   "cell_type": "code",
   "execution_count": 41,
   "metadata": {},
   "outputs": [
    {
     "data": {
      "text/plain": [
       "array([[ 2505, 10872],\n",
       "       [    5,  2671]], dtype=int64)"
      ]
     },
     "execution_count": 41,
     "metadata": {},
     "output_type": "execute_result"
    }
   ],
   "source": [
    "true_labels = label_data(df_anomaly_test)['label']\n",
    "pred_labels = df_anomaly_score['anomaly']\n",
    "\n",
    "cf_matrix = metrics.confusion_matrix(true_labels, pred_labels)\n",
    "cf_matrix"
   ]
  },
  {
   "cell_type": "code",
   "execution_count": 14,
   "metadata": {},
   "outputs": [
    {
     "data": {
      "text/plain": [
       "array([[2537, 4152],\n",
       "       [ 234, 1154]])"
      ]
     },
     "execution_count": 14,
     "metadata": {},
     "output_type": "execute_result"
    }
   ],
   "source": [
    "#Values taken from average\n",
    "cf_matrix = np.array([[2537, 4152],[234, 1154]])\n",
    "cf_matrix"
   ]
  },
  {
   "cell_type": "code",
   "execution_count": 6,
   "metadata": {},
   "outputs": [
    {
     "data": {
      "image/png": "[encoded data removed]",
      "text/plain": [
       "<Figure size 640x480 with 2 Axes>"
      ]
     },
     "metadata": {},
     "output_type": "display_data"
    }
   ],
   "source": [
    "cm_display = metrics.ConfusionMatrixDisplay(cf_matrix/np.sum(cf_matrix), display_labels = ['Anomaly', 'Normal'], )\n",
    "\n",
    "cm_display.plot(values_format='.2%', cmap='Greens')\n",
    "plt.rcParams.update({'font.size': 14})\n",
    "plt.show()"
   ]
  }
 ],
 "metadata": {
  "kernelspec": {
   "display_name": "base",
   "language": "python",
   "name": "python3"
  },
  "language_info": {
   "codemirror_mode": {
    "name": "ipython",
    "version": 3
   },
   "file_extension": ".py",
   "mimetype": "text/x-python",
   "name": "python",
   "nbconvert_exporter": "python",
   "pygments_lexer": "ipython3",
   "version": "3.11.1"
  },
  "orig_nbformat": 4,
  "vscode": {
   "interpreter": {
    "hash": "3fa6f82468f97c94762da00771b641cd6e795bf4a61ec307ed33d35dfc222882"
   }
  }
 },
 "nbformat": 4,
 "nbformat_minor": 2
}
