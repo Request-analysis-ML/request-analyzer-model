{
 "cells": [
  {
   "attachments": {},
   "cell_type": "markdown",
   "metadata": {},
   "source": [
    "Code scraps"
   ]
  },
  {
   "cell_type": "code",
   "execution_count": null,
   "metadata": {},
   "outputs": [],
   "source": [
    "#Function to create a sequence of numbers. Approx. 10% of the sequences will consist of duplicates of the same number\n",
    "import random\n",
    "\n",
    "def create_sequence(arr, randVal):\n",
    "    if (randVal < 1):\n",
    "        val = random.randint(1,9)\n",
    "        for i in range (50):\n",
    "            arr.append(val)\n",
    "    else:    \n",
    "        for i in range (0, 50):\n",
    "            arr.append(random.randint(1,9))\n",
    "    return arr    "
   ]
  },
  {
   "cell_type": "code",
   "execution_count": null,
   "metadata": {},
   "outputs": [],
   "source": [
    "#Function to give a sequence a score depending on number of consecutive duplicates\n",
    "def sequence_evaluation(df):\n",
    "    arr = []\n",
    "    for i in range (0, df.shape[0]):\n",
    "        data = df.iloc[i].to_list()\n",
    "        score = 0\n",
    "        lr = 0.1\n",
    "        val = data[0]\n",
    "        for j in range (1, len(data)):\n",
    "            if (data[j] == val):\n",
    "                score -= lr*data[j]\n",
    "                if(lr < 1):\n",
    "                    lr += 1.1*lr\n",
    "            else:\n",
    "                score += data[j]\n",
    "                val = data[j]\n",
    "        arr.append(score) \n",
    "    return arr "
   ]
  },
  {
   "cell_type": "code",
   "execution_count": null,
   "metadata": {},
   "outputs": [],
   "source": [
    "#Creation of the sequence data frame\n",
    "sequence_matrix = []\n",
    "for i in range (1000):\n",
    "    randVal = random.randint(0,9)\n",
    "    arr = []\n",
    "    sequence_matrix.append(create_sequence(arr, randVal))\n",
    "\n",
    "sequence_df = pd.DataFrame(sequence_matrix)\n",
    "\n",
    "sequence_df['score'] = sequence_evaluation(sequence_df)\n",
    "sequence_df['longestConsec'] = longestConsecutive(sequence_df.loc[:, sequence_df.columns != 'score'])\n",
    "sequence_df"
   ]
  },
  {
   "attachments": {},
   "cell_type": "markdown",
   "metadata": {},
   "source": [
    "Two methods from 'sessionID_check' that we might want to use later..."
   ]
  },
  {
   "cell_type": "code",
   "execution_count": null,
   "metadata": {},
   "outputs": [],
   "source": [
    "#group all column values based on userID\n",
    "def group_data(dataframe):\n",
    "    data_grouped = dataframe.groupby('userID').agg(lambda x: ', '.join(x.astype(str))).reset_index()\n",
    "    return data_grouped\n",
    "\n",
    "\n",
    "\n",
    "#recursive function?\n",
    "def token_recursion(list, dataframe, i):\n",
    "    if (i <= dataframe.shape[0]-1):\n",
    "        list.append(count_sessionIDs(dataframe.iloc[i]))\n",
    "        return token_recursion(list, dataframe, i+1)\n",
    "    return list"
   ]
  }
 ],
 "metadata": {
  "language_info": {
   "name": "python"
  },
  "orig_nbformat": 4
 },
 "nbformat": 4,
 "nbformat_minor": 2
}
