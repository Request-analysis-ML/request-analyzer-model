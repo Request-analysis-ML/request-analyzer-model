{
 "cells": [
  {
   "cell_type": "code",
   "execution_count": 10,
   "metadata": {},
   "outputs": [],
   "source": [
    "import pandas as pd\n",
    "import re\n",
    "from vectors_check import read_csv_file, group_data, format_for_url, clean_reqlogs, get_variance_score, get_vectorizer, get_vectorized_logs, test_var_instance\n",
    "\n",
    "\n",
    "from sklearn.feature_extraction.text import TfidfVectorizer, CountVectorizer"
   ]
  },
  {
   "attachments": {},
   "cell_type": "markdown",
   "metadata": {},
   "source": [
    "This notebook is only for testing the vectors_check.py file.\n",
    "The result "
   ]
  },
  {
   "cell_type": "code",
   "execution_count": 11,
   "metadata": {},
   "outputs": [],
   "source": [
    "#Code for assembling a batch of request from one user\n",
    "data = read_csv_file('requests.csv')\n",
    "data = group_data(data)\n",
    "#single_user = data.iloc[1]"
   ]
  },
  {
   "cell_type": "code",
   "execution_count": 12,
   "metadata": {},
   "outputs": [],
   "source": [
    "url_data_df = format_for_url(data)\n"
   ]
  },
  {
   "cell_type": "code",
   "execution_count": 13,
   "metadata": {},
   "outputs": [
    {
     "data": {
      "text/html": [
       "<div>\n",
       "<style scoped>\n",
       "    .dataframe tbody tr th:only-of-type {\n",
       "        vertical-align: middle;\n",
       "    }\n",
       "\n",
       "    .dataframe tbody tr th {\n",
       "        vertical-align: top;\n",
       "    }\n",
       "\n",
       "    .dataframe thead th {\n",
       "        text-align: right;\n",
       "    }\n",
       "</style>\n",
       "<table border=\"1\" class=\"dataframe\">\n",
       "  <thead>\n",
       "    <tr style=\"text-align: right;\">\n",
       "      <th></th>\n",
       "      <th>userID</th>\n",
       "      <th>URL</th>\n",
       "    </tr>\n",
       "  </thead>\n",
       "  <tbody>\n",
       "    <tr>\n",
       "      <th>0</th>\n",
       "      <td>user-10</td>\n",
       "      <td>/login,  /searchUsers?page=0,  /profile/372, ...</td>\n",
       "    </tr>\n",
       "    <tr>\n",
       "      <th>1</th>\n",
       "      <td>user-100</td>\n",
       "      <td>/login,  /searchUsers?page=0,  /profile/716, ...</td>\n",
       "    </tr>\n",
       "    <tr>\n",
       "      <th>2</th>\n",
       "      <td>user-1000</td>\n",
       "      <td>/login,  /searchUsers?page=0,  /profile/626, ...</td>\n",
       "    </tr>\n",
       "    <tr>\n",
       "      <th>3</th>\n",
       "      <td>user-1001</td>\n",
       "      <td>/login,  /searchUsers?page=0,  /profile/117, ...</td>\n",
       "    </tr>\n",
       "    <tr>\n",
       "      <th>4</th>\n",
       "      <td>user-1002</td>\n",
       "      <td>/login,  /searchUsers?page=0,  /profile/162, ...</td>\n",
       "    </tr>\n",
       "    <tr>\n",
       "      <th>...</th>\n",
       "      <td>...</td>\n",
       "      <td>...</td>\n",
       "    </tr>\n",
       "    <tr>\n",
       "      <th>999</th>\n",
       "      <td>user-995</td>\n",
       "      <td>/login,  /searchUsers?page=0,  /profile/337, ...</td>\n",
       "    </tr>\n",
       "    <tr>\n",
       "      <th>1000</th>\n",
       "      <td>user-996</td>\n",
       "      <td>/login,  /searchUsers?page=0,  /profile/642, ...</td>\n",
       "    </tr>\n",
       "    <tr>\n",
       "      <th>1001</th>\n",
       "      <td>user-997</td>\n",
       "      <td>/login,  /searchUsers?page=0,  /profile/760, ...</td>\n",
       "    </tr>\n",
       "    <tr>\n",
       "      <th>1002</th>\n",
       "      <td>user-998</td>\n",
       "      <td>/login,  /searchUsers?page=0,  /profile/944, ...</td>\n",
       "    </tr>\n",
       "    <tr>\n",
       "      <th>1003</th>\n",
       "      <td>user-999</td>\n",
       "      <td>/login,  /searchUsers?page=0,  /profile/243, ...</td>\n",
       "    </tr>\n",
       "  </tbody>\n",
       "</table>\n",
       "<p>1004 rows × 2 columns</p>\n",
       "</div>"
      ],
      "text/plain": [
       "          userID                                                URL\n",
       "0        user-10   /login,  /searchUsers?page=0,  /profile/372, ...\n",
       "1       user-100   /login,  /searchUsers?page=0,  /profile/716, ...\n",
       "2      user-1000   /login,  /searchUsers?page=0,  /profile/626, ...\n",
       "3      user-1001   /login,  /searchUsers?page=0,  /profile/117, ...\n",
       "4      user-1002   /login,  /searchUsers?page=0,  /profile/162, ...\n",
       "...          ...                                                ...\n",
       "999     user-995   /login,  /searchUsers?page=0,  /profile/337, ...\n",
       "1000    user-996   /login,  /searchUsers?page=0,  /profile/642, ...\n",
       "1001    user-997   /login,  /searchUsers?page=0,  /profile/760, ...\n",
       "1002    user-998   /login,  /searchUsers?page=0,  /profile/944, ...\n",
       "1003    user-999   /login,  /searchUsers?page=0,  /profile/243, ...\n",
       "\n",
       "[1004 rows x 2 columns]"
      ]
     },
     "execution_count": 13,
     "metadata": {},
     "output_type": "execute_result"
    }
   ],
   "source": [
    "url_data_df"
   ]
  },
  {
   "cell_type": "code",
   "execution_count": 14,
   "metadata": {},
   "outputs": [],
   "source": [
    "df_clean_url = clean_reqlogs(url_data_df)"
   ]
  },
  {
   "cell_type": "code",
   "execution_count": 15,
   "metadata": {},
   "outputs": [
    {
     "data": {
      "text/html": [
       "<div>\n",
       "<style scoped>\n",
       "    .dataframe tbody tr th:only-of-type {\n",
       "        vertical-align: middle;\n",
       "    }\n",
       "\n",
       "    .dataframe tbody tr th {\n",
       "        vertical-align: top;\n",
       "    }\n",
       "\n",
       "    .dataframe thead th {\n",
       "        text-align: right;\n",
       "    }\n",
       "</style>\n",
       "<table border=\"1\" class=\"dataframe\">\n",
       "  <thead>\n",
       "    <tr style=\"text-align: right;\">\n",
       "      <th></th>\n",
       "      <th>userID</th>\n",
       "      <th>request_logs</th>\n",
       "    </tr>\n",
       "  </thead>\n",
       "  <tbody>\n",
       "    <tr>\n",
       "      <th>0</th>\n",
       "      <td>user-10</td>\n",
       "      <td>/login   /searchusers?page=   /profile/   /co...</td>\n",
       "    </tr>\n",
       "    <tr>\n",
       "      <th>1</th>\n",
       "      <td>user-100</td>\n",
       "      <td>/login   /searchusers?page=   /profile/   /pr...</td>\n",
       "    </tr>\n",
       "    <tr>\n",
       "      <th>2</th>\n",
       "      <td>user-1000</td>\n",
       "      <td>/login   /searchusers?page=   /profile/   /co...</td>\n",
       "    </tr>\n",
       "    <tr>\n",
       "      <th>3</th>\n",
       "      <td>user-1001</td>\n",
       "      <td>/login   /searchusers?page=   /profile/   /pr...</td>\n",
       "    </tr>\n",
       "    <tr>\n",
       "      <th>4</th>\n",
       "      <td>user-1002</td>\n",
       "      <td>/login   /searchusers?page=   /profile/   /co...</td>\n",
       "    </tr>\n",
       "    <tr>\n",
       "      <th>...</th>\n",
       "      <td>...</td>\n",
       "      <td>...</td>\n",
       "    </tr>\n",
       "    <tr>\n",
       "      <th>999</th>\n",
       "      <td>user-995</td>\n",
       "      <td>/login   /searchusers?page=   /profile/   /ph...</td>\n",
       "    </tr>\n",
       "    <tr>\n",
       "      <th>1000</th>\n",
       "      <td>user-996</td>\n",
       "      <td>/login   /searchusers?page=   /profile/   /pr...</td>\n",
       "    </tr>\n",
       "    <tr>\n",
       "      <th>1001</th>\n",
       "      <td>user-997</td>\n",
       "      <td>/login   /searchusers?page=   /profile/   /co...</td>\n",
       "    </tr>\n",
       "    <tr>\n",
       "      <th>1002</th>\n",
       "      <td>user-998</td>\n",
       "      <td>/login   /searchusers?page=   /profile/   /pr...</td>\n",
       "    </tr>\n",
       "    <tr>\n",
       "      <th>1003</th>\n",
       "      <td>user-999</td>\n",
       "      <td>/login   /searchusers?page=   /profile/   /co...</td>\n",
       "    </tr>\n",
       "  </tbody>\n",
       "</table>\n",
       "<p>1004 rows × 2 columns</p>\n",
       "</div>"
      ],
      "text/plain": [
       "          userID                                       request_logs\n",
       "0        user-10   /login   /searchusers?page=   /profile/   /co...\n",
       "1       user-100   /login   /searchusers?page=   /profile/   /pr...\n",
       "2      user-1000   /login   /searchusers?page=   /profile/   /co...\n",
       "3      user-1001   /login   /searchusers?page=   /profile/   /pr...\n",
       "4      user-1002   /login   /searchusers?page=   /profile/   /co...\n",
       "...          ...                                                ...\n",
       "999     user-995   /login   /searchusers?page=   /profile/   /ph...\n",
       "1000    user-996   /login   /searchusers?page=   /profile/   /pr...\n",
       "1001    user-997   /login   /searchusers?page=   /profile/   /co...\n",
       "1002    user-998   /login   /searchusers?page=   /profile/   /pr...\n",
       "1003    user-999   /login   /searchusers?page=   /profile/   /co...\n",
       "\n",
       "[1004 rows x 2 columns]"
      ]
     },
     "execution_count": 15,
     "metadata": {},
     "output_type": "execute_result"
    }
   ],
   "source": [
    "df_clean_url"
   ]
  },
  {
   "cell_type": "code",
   "execution_count": 18,
   "metadata": {},
   "outputs": [
    {
     "data": {
      "text/plain": [
       "vect_scores    2.469623e+08\n",
       "dtype: float64"
      ]
     },
     "execution_count": 18,
     "metadata": {},
     "output_type": "execute_result"
    }
   ],
   "source": [
    "y = get_variance_score(vectorizer='count', dataframe=df_clean_url, column_name='request_logs', i=7)\n",
    "y"
   ]
  },
  {
   "attachments": {},
   "cell_type": "markdown",
   "metadata": {},
   "source": [
    "url: is '/conversation/markAsRead' important? Should it be divided into '/conversation' and 'markAsRead'?\n",
    "     What is '/searchUsers?page=0' or '/searchUsers?page=1'? What does the numbers mean?\n",
    "     Is the 'page' attribute important?\n",
    "     Are there any urls part of config ('/config', '/login') that should be discared from the analysis?"
   ]
  },
  {
   "attachments": {},
   "cell_type": "markdown",
   "metadata": {},
   "source": [
    "i = 7: var = 2.469623e+08\n",
    "\n",
    "i = 2: var = 98.314286\n",
    "\n",
    "i = 3: var = 110.380952\n",
    "\n",
    "i = 5: var = 6.766006e+07\n",
    "\n",
    "i = 6: var = 6.662730e+07\n",
    "\n",
    "i.e., very high for spammers and data scraper\n",
    "\n"
   ]
  },
  {
   "cell_type": "code",
   "execution_count": 17,
   "metadata": {},
   "outputs": [],
   "source": [
    "def calculate_variance(dataframe, list):\n",
    "    dataframe['var_reqs'] = dataframe[list].apply(lambda row: row.var(), axis=1)\n",
    "    return dataframe  "
   ]
  }
 ],
 "metadata": {
  "kernelspec": {
   "display_name": "base",
   "language": "python",
   "name": "python3"
  },
  "language_info": {
   "codemirror_mode": {
    "name": "ipython",
    "version": 3
   },
   "file_extension": ".py",
   "mimetype": "text/x-python",
   "name": "python",
   "nbconvert_exporter": "python",
   "pygments_lexer": "ipython3",
   "version": "3.9.13"
  },
  "orig_nbformat": 4
 },
 "nbformat": 4,
 "nbformat_minor": 2
}
