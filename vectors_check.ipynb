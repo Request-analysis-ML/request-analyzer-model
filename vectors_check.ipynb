{
 "cells": [
  {
   "cell_type": "code",
   "execution_count": 1,
   "metadata": {},
   "outputs": [],
   "source": [
    "import pandas as pd\n",
    "import re\n",
    "from vectors_check import read_csv_file, group_data, format_for_url, clean_reqlogs, get_variance_score, get_vectorizer, get_vectorized_logs\n",
    "\n",
    "\n",
    "from sklearn.feature_extraction.text import TfidfVectorizer, CountVectorizer"
   ]
  },
  {
   "attachments": {},
   "cell_type": "markdown",
   "metadata": {},
   "source": [
    "This notebook is only for testing the vectors_check.py file.\n",
    "The result "
   ]
  },
  {
   "cell_type": "code",
   "execution_count": 2,
   "metadata": {},
   "outputs": [],
   "source": [
    "#Code for assembling a batch of request from one user\n",
    "data = read_csv_file('requests.csv')\n",
    "data = group_data(data)\n",
    "#single_user = data.iloc[1]"
   ]
  },
  {
   "cell_type": "code",
   "execution_count": 3,
   "metadata": {},
   "outputs": [],
   "source": [
    "url_data_df = format_for_url(data)\n"
   ]
  },
  {
   "cell_type": "code",
   "execution_count": 4,
   "metadata": {},
   "outputs": [
    {
     "data": {
      "text/html": [
       "<div>\n",
       "<style scoped>\n",
       "    .dataframe tbody tr th:only-of-type {\n",
       "        vertical-align: middle;\n",
       "    }\n",
       "\n",
       "    .dataframe tbody tr th {\n",
       "        vertical-align: top;\n",
       "    }\n",
       "\n",
       "    .dataframe thead th {\n",
       "        text-align: right;\n",
       "    }\n",
       "</style>\n",
       "<table border=\"1\" class=\"dataframe\">\n",
       "  <thead>\n",
       "    <tr style=\"text-align: right;\">\n",
       "      <th></th>\n",
       "      <th>userID</th>\n",
       "      <th>URL</th>\n",
       "    </tr>\n",
       "  </thead>\n",
       "  <tbody>\n",
       "    <tr>\n",
       "      <th>0</th>\n",
       "      <td>user-10</td>\n",
       "      <td>/login,  /searchUsers?page=0,  /profile/372, ...</td>\n",
       "    </tr>\n",
       "    <tr>\n",
       "      <th>1</th>\n",
       "      <td>user-100</td>\n",
       "      <td>/login,  /searchUsers?page=0,  /profile/716, ...</td>\n",
       "    </tr>\n",
       "    <tr>\n",
       "      <th>2</th>\n",
       "      <td>user-1000</td>\n",
       "      <td>/login,  /searchUsers?page=0,  /profile/626, ...</td>\n",
       "    </tr>\n",
       "    <tr>\n",
       "      <th>3</th>\n",
       "      <td>user-1001</td>\n",
       "      <td>/login,  /searchUsers?page=0,  /profile/117, ...</td>\n",
       "    </tr>\n",
       "    <tr>\n",
       "      <th>4</th>\n",
       "      <td>user-1002</td>\n",
       "      <td>/login,  /searchUsers?page=0,  /profile/162, ...</td>\n",
       "    </tr>\n",
       "    <tr>\n",
       "      <th>...</th>\n",
       "      <td>...</td>\n",
       "      <td>...</td>\n",
       "    </tr>\n",
       "    <tr>\n",
       "      <th>999</th>\n",
       "      <td>user-995</td>\n",
       "      <td>/login,  /searchUsers?page=0,  /profile/337, ...</td>\n",
       "    </tr>\n",
       "    <tr>\n",
       "      <th>1000</th>\n",
       "      <td>user-996</td>\n",
       "      <td>/login,  /searchUsers?page=0,  /profile/642, ...</td>\n",
       "    </tr>\n",
       "    <tr>\n",
       "      <th>1001</th>\n",
       "      <td>user-997</td>\n",
       "      <td>/login,  /searchUsers?page=0,  /profile/760, ...</td>\n",
       "    </tr>\n",
       "    <tr>\n",
       "      <th>1002</th>\n",
       "      <td>user-998</td>\n",
       "      <td>/login,  /searchUsers?page=0,  /profile/944, ...</td>\n",
       "    </tr>\n",
       "    <tr>\n",
       "      <th>1003</th>\n",
       "      <td>user-999</td>\n",
       "      <td>/login,  /searchUsers?page=0,  /profile/243, ...</td>\n",
       "    </tr>\n",
       "  </tbody>\n",
       "</table>\n",
       "<p>1004 rows × 2 columns</p>\n",
       "</div>"
      ],
      "text/plain": [
       "          userID                                                URL\n",
       "0        user-10   /login,  /searchUsers?page=0,  /profile/372, ...\n",
       "1       user-100   /login,  /searchUsers?page=0,  /profile/716, ...\n",
       "2      user-1000   /login,  /searchUsers?page=0,  /profile/626, ...\n",
       "3      user-1001   /login,  /searchUsers?page=0,  /profile/117, ...\n",
       "4      user-1002   /login,  /searchUsers?page=0,  /profile/162, ...\n",
       "...          ...                                                ...\n",
       "999     user-995   /login,  /searchUsers?page=0,  /profile/337, ...\n",
       "1000    user-996   /login,  /searchUsers?page=0,  /profile/642, ...\n",
       "1001    user-997   /login,  /searchUsers?page=0,  /profile/760, ...\n",
       "1002    user-998   /login,  /searchUsers?page=0,  /profile/944, ...\n",
       "1003    user-999   /login,  /searchUsers?page=0,  /profile/243, ...\n",
       "\n",
       "[1004 rows x 2 columns]"
      ]
     },
     "execution_count": 4,
     "metadata": {},
     "output_type": "execute_result"
    }
   ],
   "source": [
    "url_data_df"
   ]
  },
  {
   "cell_type": "code",
   "execution_count": 5,
   "metadata": {},
   "outputs": [],
   "source": [
    "df_clean_url = clean_reqlogs(url_data_df)"
   ]
  },
  {
   "cell_type": "code",
   "execution_count": 6,
   "metadata": {},
   "outputs": [
    {
     "data": {
      "text/html": [
       "<div>\n",
       "<style scoped>\n",
       "    .dataframe tbody tr th:only-of-type {\n",
       "        vertical-align: middle;\n",
       "    }\n",
       "\n",
       "    .dataframe tbody tr th {\n",
       "        vertical-align: top;\n",
       "    }\n",
       "\n",
       "    .dataframe thead th {\n",
       "        text-align: right;\n",
       "    }\n",
       "</style>\n",
       "<table border=\"1\" class=\"dataframe\">\n",
       "  <thead>\n",
       "    <tr style=\"text-align: right;\">\n",
       "      <th></th>\n",
       "      <th>userID</th>\n",
       "      <th>request_logs</th>\n",
       "    </tr>\n",
       "  </thead>\n",
       "  <tbody>\n",
       "    <tr>\n",
       "      <th>0</th>\n",
       "      <td>user-10</td>\n",
       "      <td>/login   /searchusers?page=   /profile/   /co...</td>\n",
       "    </tr>\n",
       "    <tr>\n",
       "      <th>1</th>\n",
       "      <td>user-100</td>\n",
       "      <td>/login   /searchusers?page=   /profile/   /pr...</td>\n",
       "    </tr>\n",
       "    <tr>\n",
       "      <th>2</th>\n",
       "      <td>user-1000</td>\n",
       "      <td>/login   /searchusers?page=   /profile/   /co...</td>\n",
       "    </tr>\n",
       "    <tr>\n",
       "      <th>3</th>\n",
       "      <td>user-1001</td>\n",
       "      <td>/login   /searchusers?page=   /profile/   /pr...</td>\n",
       "    </tr>\n",
       "    <tr>\n",
       "      <th>4</th>\n",
       "      <td>user-1002</td>\n",
       "      <td>/login   /searchusers?page=   /profile/   /co...</td>\n",
       "    </tr>\n",
       "    <tr>\n",
       "      <th>...</th>\n",
       "      <td>...</td>\n",
       "      <td>...</td>\n",
       "    </tr>\n",
       "    <tr>\n",
       "      <th>999</th>\n",
       "      <td>user-995</td>\n",
       "      <td>/login   /searchusers?page=   /profile/   /ph...</td>\n",
       "    </tr>\n",
       "    <tr>\n",
       "      <th>1000</th>\n",
       "      <td>user-996</td>\n",
       "      <td>/login   /searchusers?page=   /profile/   /pr...</td>\n",
       "    </tr>\n",
       "    <tr>\n",
       "      <th>1001</th>\n",
       "      <td>user-997</td>\n",
       "      <td>/login   /searchusers?page=   /profile/   /co...</td>\n",
       "    </tr>\n",
       "    <tr>\n",
       "      <th>1002</th>\n",
       "      <td>user-998</td>\n",
       "      <td>/login   /searchusers?page=   /profile/   /pr...</td>\n",
       "    </tr>\n",
       "    <tr>\n",
       "      <th>1003</th>\n",
       "      <td>user-999</td>\n",
       "      <td>/login   /searchusers?page=   /profile/   /co...</td>\n",
       "    </tr>\n",
       "  </tbody>\n",
       "</table>\n",
       "<p>1004 rows × 2 columns</p>\n",
       "</div>"
      ],
      "text/plain": [
       "          userID                                       request_logs\n",
       "0        user-10   /login   /searchusers?page=   /profile/   /co...\n",
       "1       user-100   /login   /searchusers?page=   /profile/   /pr...\n",
       "2      user-1000   /login   /searchusers?page=   /profile/   /co...\n",
       "3      user-1001   /login   /searchusers?page=   /profile/   /pr...\n",
       "4      user-1002   /login   /searchusers?page=   /profile/   /co...\n",
       "...          ...                                                ...\n",
       "999     user-995   /login   /searchusers?page=   /profile/   /ph...\n",
       "1000    user-996   /login   /searchusers?page=   /profile/   /pr...\n",
       "1001    user-997   /login   /searchusers?page=   /profile/   /co...\n",
       "1002    user-998   /login   /searchusers?page=   /profile/   /pr...\n",
       "1003    user-999   /login   /searchusers?page=   /profile/   /co...\n",
       "\n",
       "[1004 rows x 2 columns]"
      ]
     },
     "execution_count": 6,
     "metadata": {},
     "output_type": "execute_result"
    }
   ],
   "source": [
    "df_clean_url"
   ]
  },
  {
   "cell_type": "code",
   "execution_count": 17,
   "metadata": {},
   "outputs": [
    {
     "name": "stdout",
     "output_type": "stream",
     "text": [
      "tfidf\n"
     ]
    }
   ],
   "source": [
    "y = get_variance_score(vectorizer='count', dataframe=df_clean_url, column_name='request_logs')"
   ]
  },
  {
   "cell_type": "code",
   "execution_count": null,
   "metadata": {},
   "outputs": [
    {
     "data": {
      "text/plain": [
       "<1004x15 sparse matrix of type '<class 'numpy.int64'>'\n",
       "\twith 13793 stored elements in Compressed Sparse Row format>"
      ]
     },
     "execution_count": 11,
     "metadata": {},
     "output_type": "execute_result"
    }
   ],
   "source": [
    "\n",
    "#count_vect = CountVectorizer()\n",
    "#x = count_vect.fit_transform(df_clean_url['request_logs'])\n",
    "#x"
   ]
  },
  {
   "cell_type": "code",
   "execution_count": null,
   "metadata": {},
   "outputs": [
    {
     "data": {
      "text/html": [
       "<div>\n",
       "<style scoped>\n",
       "    .dataframe tbody tr th:only-of-type {\n",
       "        vertical-align: middle;\n",
       "    }\n",
       "\n",
       "    .dataframe tbody tr th {\n",
       "        vertical-align: top;\n",
       "    }\n",
       "\n",
       "    .dataframe thead th {\n",
       "        text-align: right;\n",
       "    }\n",
       "</style>\n",
       "<table border=\"1\" class=\"dataframe\">\n",
       "  <thead>\n",
       "    <tr style=\"text-align: right;\">\n",
       "      <th></th>\n",
       "      <th>vect_scores</th>\n",
       "    </tr>\n",
       "  </thead>\n",
       "  <tbody>\n",
       "    <tr>\n",
       "      <th>profile</th>\n",
       "      <td>61138</td>\n",
       "    </tr>\n",
       "    <tr>\n",
       "      <th>page</th>\n",
       "      <td>7039</td>\n",
       "    </tr>\n",
       "    <tr>\n",
       "      <th>searchusers</th>\n",
       "      <td>7039</td>\n",
       "    </tr>\n",
       "    <tr>\n",
       "      <th>login</th>\n",
       "      <td>236</td>\n",
       "    </tr>\n",
       "    <tr>\n",
       "      <th>block</th>\n",
       "      <td>0</td>\n",
       "    </tr>\n",
       "    <tr>\n",
       "      <th>chat</th>\n",
       "      <td>0</td>\n",
       "    </tr>\n",
       "    <tr>\n",
       "      <th>config</th>\n",
       "      <td>0</td>\n",
       "    </tr>\n",
       "    <tr>\n",
       "      <th>conversation</th>\n",
       "      <td>0</td>\n",
       "    </tr>\n",
       "    <tr>\n",
       "      <th>inbox</th>\n",
       "      <td>0</td>\n",
       "    </tr>\n",
       "    <tr>\n",
       "      <th>like</th>\n",
       "      <td>0</td>\n",
       "    </tr>\n",
       "    <tr>\n",
       "      <th>markasread</th>\n",
       "      <td>0</td>\n",
       "    </tr>\n",
       "    <tr>\n",
       "      <th>photos</th>\n",
       "      <td>0</td>\n",
       "    </tr>\n",
       "    <tr>\n",
       "      <th>report</th>\n",
       "      <td>0</td>\n",
       "    </tr>\n",
       "    <tr>\n",
       "      <th>send</th>\n",
       "      <td>0</td>\n",
       "    </tr>\n",
       "    <tr>\n",
       "      <th>userconfig</th>\n",
       "      <td>0</td>\n",
       "    </tr>\n",
       "  </tbody>\n",
       "</table>\n",
       "</div>"
      ],
      "text/plain": [
       "              vect_scores\n",
       "profile             61138\n",
       "page                 7039\n",
       "searchusers          7039\n",
       "login                 236\n",
       "block                   0\n",
       "chat                    0\n",
       "config                  0\n",
       "conversation            0\n",
       "inbox                   0\n",
       "like                    0\n",
       "markasread              0\n",
       "photos                  0\n",
       "report                  0\n",
       "send                    0\n",
       "userconfig              0"
      ]
     },
     "execution_count": 17,
     "metadata": {},
     "output_type": "execute_result"
    }
   ],
   "source": [
    "vector_instance= x[7] \n",
    "df_vectorized = pd.DataFrame(vector_instance.T.todense(), index=count_vect.get_feature_names_out(), columns=[\"vect_scores\"])\n",
    "df_vectorized.sort_values(by=[\"vect_scores\"], ascending=False)"
   ]
  },
  {
   "cell_type": "code",
   "execution_count": null,
   "metadata": {},
   "outputs": [],
   "source": []
  },
  {
   "cell_type": "code",
   "execution_count": null,
   "metadata": {},
   "outputs": [],
   "source": []
  },
  {
   "cell_type": "code",
   "execution_count": null,
   "metadata": {},
   "outputs": [
    {
     "data": {
      "text/plain": [
       "\"\\nurl: is '/conversation/markAsRead' important? Should it be divided into '/conversation' and 'markAsRead'?\\n     What is '/searchUsers?page=0' or '/searchUsers?page=1'? What does the numbers mean?\\n     Is the 'page' attribute important?\\n     Are there any urls part of config ('/config', '/login') that should be discared from the analysis?\\n\\n\""
      ]
     },
     "execution_count": 7,
     "metadata": {},
     "output_type": "execute_result"
    }
   ],
   "source": [
    "single_user = df_clean_url.iloc[0]\n",
    "\n",
    "\n",
    "\"\"\"\n",
    "url: is '/conversation/markAsRead' important? Should it be divided into '/conversation' and 'markAsRead'?\n",
    "     What is '/searchUsers?page=0' or '/searchUsers?page=1'? What does the numbers mean?\n",
    "     Is the 'page' attribute important?\n",
    "     Are there any urls part of config ('/config', '/login') that should be discared from the analysis?\n",
    "\n",
    "\"\"\""
   ]
  },
  {
   "cell_type": "code",
   "execution_count": null,
   "metadata": {},
   "outputs": [
    {
     "data": {
      "text/plain": [
       "userID                                                    user-10\n",
       "request_logs     /login   /searchusers?page=   /profile/   /co...\n",
       "Name: 0, dtype: object"
      ]
     },
     "execution_count": 8,
     "metadata": {},
     "output_type": "execute_result"
    }
   ],
   "source": [
    "single_user"
   ]
  },
  {
   "cell_type": "code",
   "execution_count": null,
   "metadata": {},
   "outputs": [],
   "source": [
    "clean = tfidf_vectorizer(df_clean_url)"
   ]
  },
  {
   "cell_type": "code",
   "execution_count": null,
   "metadata": {},
   "outputs": [
    {
     "data": {
      "text/plain": [
       "matrix([[0.04185434, 0.28270935, 0.02389254, ..., 0.26359964, 0.28270935,\n",
       "         0.02389254],\n",
       "        [0.        , 0.25720906, 0.        , ..., 0.17789072, 0.25720906,\n",
       "         0.        ],\n",
       "        [0.0773957 , 0.26138851, 0.04418132, ..., 0.19149427, 0.26138851,\n",
       "         0.04418132],\n",
       "        ...,\n",
       "        [0.02328439, 0.16776186, 0.02658378, ..., 0.20949376, 0.16776186,\n",
       "         0.02658378],\n",
       "        [0.        , 0.25652834, 0.        , ..., 0.17084881, 0.25652834,\n",
       "         0.        ],\n",
       "        [0.09897283, 0.356545  , 0.        , ..., 0.1780952 , 0.356545  ,\n",
       "         0.        ]])"
      ]
     },
     "execution_count": 10,
     "metadata": {},
     "output_type": "execute_result"
    }
   ],
   "source": [
    "clean.todense()"
   ]
  },
  {
   "cell_type": "code",
   "execution_count": null,
   "metadata": {},
   "outputs": [],
   "source": []
  }
 ],
 "metadata": {
  "kernelspec": {
   "display_name": "base",
   "language": "python",
   "name": "python3"
  },
  "language_info": {
   "codemirror_mode": {
    "name": "ipython",
    "version": 3
   },
   "file_extension": ".py",
   "mimetype": "text/x-python",
   "name": "python",
   "nbconvert_exporter": "python",
   "pygments_lexer": "ipython3",
   "version": "3.9.13"
  },
  "orig_nbformat": 4
 },
 "nbformat": 4,
 "nbformat_minor": 2
}
