{
 "cells": [
  {
   "cell_type": "code",
   "execution_count": 1,
   "metadata": {},
   "outputs": [],
   "source": [
    "import numpy as np\n",
    "from df_functions import read_csv_file, extract_users\n",
    "import math\n",
    "from sessionID_check import avg_tokens_5mins"
   ]
  },
  {
   "cell_type": "code",
   "execution_count": 2,
   "metadata": {},
   "outputs": [],
   "source": [
    "#Fetch data from csv file\n",
    "data = read_csv_file('requests.csv')\n",
    "\n",
    "#Extracts a list of all unique users in dataframe\n",
    "users = extract_users(data)\n",
    "\n",
    "#Fetches the first user in list\n",
    "user1 = users[0]"
   ]
  },
  {
   "cell_type": "code",
   "execution_count": 3,
   "metadata": {},
   "outputs": [],
   "source": [
    "#This function will only be used for training data\n",
    "def split_user_df(dataframe, user):\n",
    "\n",
    "    #Dataframe containing all requests made by chosen user\n",
    "    user_data = dataframe.loc[data['userID'] == user]\n",
    "    number_of_reqs = user_data.shape[0]\n",
    "    partitions = number_of_reqs/50\n",
    "    partitions = math.floor(partitions)\n",
    "\n",
    "    #Splits the data frame into smaller chunks of ~50 requests\n",
    "    dfs = np.array_split(user_data, partitions)\n",
    "    \n",
    "    #Returns a list of dataframes\n",
    "    return dfs"
   ]
  },
  {
   "cell_type": "code",
   "execution_count": null,
   "metadata": {},
   "outputs": [],
   "source": [
    "#Each of these dataframes represent how data fetched from redis might look like\n",
    "data_chunk = split_user_df(data, user1)[1]\n",
    "\n",
    "#This is a dataframe of 50 requests made by user-1003\n",
    "data_chunk"
   ]
  },
  {
   "cell_type": "code",
   "execution_count": 10,
   "metadata": {},
   "outputs": [],
   "source": [
    "\"\"\"\n",
    "Code for testing \n",
    "\"\"\"\n",
    "data_chunks = split_user_df(data, user1)\n",
    "avg_req_frequences = []\n",
    "avg_tokens = []\n",
    "\n",
    "for i in range(0, len(data_chunks)):\n",
    "    avg_tokens.append(avg_tokens_5mins(data_chunks[i]))\n",
    "\n",
    "print(avg_tokens)    "
   ]
  }
 ],
 "metadata": {
  "kernelspec": {
   "display_name": ".venv",
   "language": "python",
   "name": "python3"
  },
  "language_info": {
   "codemirror_mode": {
    "name": "ipython",
    "version": 3
   },
   "file_extension": ".py",
   "mimetype": "text/x-python",
   "name": "python",
   "nbconvert_exporter": "python",
   "pygments_lexer": "ipython3",
   "version": "3.11.1"
  },
  "orig_nbformat": 4
 },
 "nbformat": 4,
 "nbformat_minor": 2
}
