{
 "cells": [
  {
   "cell_type": "code",
   "execution_count": 53,
   "metadata": {},
   "outputs": [],
   "source": [
    "import pandas as pd\n",
    "import matplotlib.pyplot as plt\n",
    "from sklearn.cluster import KMeans\n",
    "from sklearn.feature_extraction import DictVectorizer\n",
    "from sklearn.preprocessing import LabelEncoder"
   ]
  },
  {
   "cell_type": "code",
   "execution_count": 54,
   "metadata": {},
   "outputs": [
    {
     "data": {
      "text/html": [
       "<div>\n",
       "<style scoped>\n",
       "    .dataframe tbody tr th:only-of-type {\n",
       "        vertical-align: middle;\n",
       "    }\n",
       "\n",
       "    .dataframe tbody tr th {\n",
       "        vertical-align: top;\n",
       "    }\n",
       "\n",
       "    .dataframe thead th {\n",
       "        text-align: right;\n",
       "    }\n",
       "</style>\n",
       "<table border=\"1\" class=\"dataframe\">\n",
       "  <thead>\n",
       "    <tr style=\"text-align: right;\">\n",
       "      <th></th>\n",
       "      <th>timestamp</th>\n",
       "      <th>userID</th>\n",
       "      <th>sessionID</th>\n",
       "      <th>expiring</th>\n",
       "      <th>URL</th>\n",
       "    </tr>\n",
       "  </thead>\n",
       "  <tbody>\n",
       "    <tr>\n",
       "      <th>0</th>\n",
       "      <td>1676373343936</td>\n",
       "      <td>user-1003</td>\n",
       "      <td>c85cbd00-d2fc-4cda-9f5c-66616847d851</td>\n",
       "      <td>1676373495816</td>\n",
       "      <td>/chat/send/442</td>\n",
       "    </tr>\n",
       "    <tr>\n",
       "      <th>1</th>\n",
       "      <td>1676373344344</td>\n",
       "      <td>user-1005</td>\n",
       "      <td>a0038f81-b46a-4f26-a7ea-2791d53404fb</td>\n",
       "      <td>1676373476316</td>\n",
       "      <td>/profile/407</td>\n",
       "    </tr>\n",
       "    <tr>\n",
       "      <th>2</th>\n",
       "      <td>1676373344456</td>\n",
       "      <td>user-1003</td>\n",
       "      <td>c85cbd00-d2fc-4cda-9f5c-66616847d851</td>\n",
       "      <td>1676373495816</td>\n",
       "      <td>/chat/send/969</td>\n",
       "    </tr>\n",
       "    <tr>\n",
       "      <th>3</th>\n",
       "      <td>1676373344912</td>\n",
       "      <td>user-65</td>\n",
       "      <td>fd48a9f9-67f4-4185-9bcc-a76b7139401c</td>\n",
       "      <td>1676373604676</td>\n",
       "      <td>/searchUsers?page=0</td>\n",
       "    </tr>\n",
       "    <tr>\n",
       "      <th>4</th>\n",
       "      <td>1676373345020</td>\n",
       "      <td>user-1005</td>\n",
       "      <td>a0038f81-b46a-4f26-a7ea-2791d53404fb</td>\n",
       "      <td>1676373476316</td>\n",
       "      <td>/profile/148</td>\n",
       "    </tr>\n",
       "  </tbody>\n",
       "</table>\n",
       "</div>"
      ],
      "text/plain": [
       "       timestamp      userID                              sessionID  \\\n",
       "0  1676373343936   user-1003   c85cbd00-d2fc-4cda-9f5c-66616847d851   \n",
       "1  1676373344344   user-1005   a0038f81-b46a-4f26-a7ea-2791d53404fb   \n",
       "2  1676373344456   user-1003   c85cbd00-d2fc-4cda-9f5c-66616847d851   \n",
       "3  1676373344912     user-65   fd48a9f9-67f4-4185-9bcc-a76b7139401c   \n",
       "4  1676373345020   user-1005   a0038f81-b46a-4f26-a7ea-2791d53404fb   \n",
       "\n",
       "        expiring                   URL  \n",
       "0  1676373495816        /chat/send/442  \n",
       "1  1676373476316          /profile/407  \n",
       "2  1676373495816        /chat/send/969  \n",
       "3  1676373604676   /searchUsers?page=0  \n",
       "4  1676373476316          /profile/148  "
      ]
     },
     "execution_count": 54,
     "metadata": {},
     "output_type": "execute_result"
    }
   ],
   "source": [
    "#Code for creating data frame of testing data\n",
    "data = pd.read_csv('requests.csv')\n",
    "data.columns = ['timestamp', 'userID', 'sessionID', 'expiring', 'URL']\n",
    "data.head()"
   ]
  },
  {
   "cell_type": "code",
   "execution_count": 66,
   "metadata": {},
   "outputs": [
    {
     "data": {
      "text/plain": [
       "(263211, 26333)"
      ]
     },
     "execution_count": 66,
     "metadata": {},
     "output_type": "execute_result"
    }
   ],
   "source": [
    "#encode data as floats\n",
    "x_dict = data.to_dict('records')\n",
    "dv = DictVectorizer()\n",
    "x_encoded = dv.fit_transform(x_dict)\n",
    "x_encoded.shape"
   ]
  },
  {
   "cell_type": "code",
   "execution_count": 65,
   "metadata": {},
   "outputs": [
    {
     "data": {
      "text/plain": [
       "(263211, 26333)"
      ]
     },
     "execution_count": 65,
     "metadata": {},
     "output_type": "execute_result"
    }
   ],
   "source": [
    "x_encoded.dtype\n"
   ]
  },
  {
   "cell_type": "code",
   "execution_count": null,
   "metadata": {},
   "outputs": [],
   "source": [
    "#creates array with comma seperated values for each instance\n",
    "#x = data.iloc[:, [0,1,2,3,4]].values \n",
    "#x\n",
    "#x = x."
   ]
  },
  {
   "cell_type": "code",
   "execution_count": null,
   "metadata": {},
   "outputs": [],
   "source": [
    "#elbow method to find appropriate nbr of clusters\n",
    "\"\"\"wcss = []\n",
    "for i in range(0,11):\n",
    "    kmeans = KMeans(n_clusters=1, init='k_means++', max_iter=300, n_init=10, random_state=0)\n",
    "    kmeans.fit(x)\n",
    "    wcss.append(kmeans.inertia_)\n",
    "\n",
    "plt.plot(range(1,11), wcss)\n",
    "plt.title('Elbow method')\n",
    "plt.xlabel('Number of clusters')\n",
    "plt.ylabel('WSCC')\n",
    "plt.show()\"\"\""
   ]
  },
  {
   "cell_type": "code",
   "execution_count": null,
   "metadata": {},
   "outputs": [],
   "source": []
  }
 ],
 "metadata": {
  "kernelspec": {
   "display_name": "base",
   "language": "python",
   "name": "python3"
  },
  "language_info": {
   "codemirror_mode": {
    "name": "ipython",
    "version": 3
   },
   "file_extension": ".py",
   "mimetype": "text/x-python",
   "name": "python",
   "nbconvert_exporter": "python",
   "pygments_lexer": "ipython3",
   "version": "3.9.13"
  },
  "orig_nbformat": 4,
  "vscode": {
   "interpreter": {
    "hash": "3fa6f82468f97c94762da00771b641cd6e795bf4a61ec307ed33d35dfc222882"
   }
  }
 },
 "nbformat": 4,
 "nbformat_minor": 2
}
