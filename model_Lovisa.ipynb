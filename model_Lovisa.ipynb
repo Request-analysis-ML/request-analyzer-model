{
 "cells": [
  {
   "cell_type": "code",
   "execution_count": 50,
   "metadata": {},
   "outputs": [],
   "source": [
    "import pandas as pd\n",
    "import matplotlib.pyplot as plt\n",
    "from sklearn.cluster import KMeans\n",
    "from sklearn.feature_extraction import DictVectorizer\n",
    "from sklearn.preprocessing import LabelEncoder\n",
    "import numpy as np"
   ]
  },
  {
   "cell_type": "code",
   "execution_count": 51,
   "metadata": {},
   "outputs": [
    {
     "data": {
      "text/html": [
       "<div>\n",
       "<style scoped>\n",
       "    .dataframe tbody tr th:only-of-type {\n",
       "        vertical-align: middle;\n",
       "    }\n",
       "\n",
       "    .dataframe tbody tr th {\n",
       "        vertical-align: top;\n",
       "    }\n",
       "\n",
       "    .dataframe thead th {\n",
       "        text-align: right;\n",
       "    }\n",
       "</style>\n",
       "<table border=\"1\" class=\"dataframe\">\n",
       "  <thead>\n",
       "    <tr style=\"text-align: right;\">\n",
       "      <th></th>\n",
       "      <th>timestamp</th>\n",
       "      <th>userID</th>\n",
       "      <th>sessionID</th>\n",
       "      <th>expiring</th>\n",
       "      <th>URL</th>\n",
       "    </tr>\n",
       "  </thead>\n",
       "  <tbody>\n",
       "    <tr>\n",
       "      <th>0</th>\n",
       "      <td>1676373343936</td>\n",
       "      <td>user-1003</td>\n",
       "      <td>c85cbd00-d2fc-4cda-9f5c-66616847d851</td>\n",
       "      <td>1676373495816</td>\n",
       "      <td>/chat/send/442</td>\n",
       "    </tr>\n",
       "    <tr>\n",
       "      <th>1</th>\n",
       "      <td>1676373344344</td>\n",
       "      <td>user-1005</td>\n",
       "      <td>a0038f81-b46a-4f26-a7ea-2791d53404fb</td>\n",
       "      <td>1676373476316</td>\n",
       "      <td>/profile/407</td>\n",
       "    </tr>\n",
       "    <tr>\n",
       "      <th>2</th>\n",
       "      <td>1676373344456</td>\n",
       "      <td>user-1003</td>\n",
       "      <td>c85cbd00-d2fc-4cda-9f5c-66616847d851</td>\n",
       "      <td>1676373495816</td>\n",
       "      <td>/chat/send/969</td>\n",
       "    </tr>\n",
       "    <tr>\n",
       "      <th>3</th>\n",
       "      <td>1676373344912</td>\n",
       "      <td>user-65</td>\n",
       "      <td>fd48a9f9-67f4-4185-9bcc-a76b7139401c</td>\n",
       "      <td>1676373604676</td>\n",
       "      <td>/searchUsers?page=0</td>\n",
       "    </tr>\n",
       "    <tr>\n",
       "      <th>4</th>\n",
       "      <td>1676373345020</td>\n",
       "      <td>user-1005</td>\n",
       "      <td>a0038f81-b46a-4f26-a7ea-2791d53404fb</td>\n",
       "      <td>1676373476316</td>\n",
       "      <td>/profile/148</td>\n",
       "    </tr>\n",
       "  </tbody>\n",
       "</table>\n",
       "</div>"
      ],
      "text/plain": [
       "       timestamp      userID                              sessionID  \\\n",
       "0  1676373343936   user-1003   c85cbd00-d2fc-4cda-9f5c-66616847d851   \n",
       "1  1676373344344   user-1005   a0038f81-b46a-4f26-a7ea-2791d53404fb   \n",
       "2  1676373344456   user-1003   c85cbd00-d2fc-4cda-9f5c-66616847d851   \n",
       "3  1676373344912     user-65   fd48a9f9-67f4-4185-9bcc-a76b7139401c   \n",
       "4  1676373345020   user-1005   a0038f81-b46a-4f26-a7ea-2791d53404fb   \n",
       "\n",
       "        expiring                   URL  \n",
       "0  1676373495816        /chat/send/442  \n",
       "1  1676373476316          /profile/407  \n",
       "2  1676373495816        /chat/send/969  \n",
       "3  1676373604676   /searchUsers?page=0  \n",
       "4  1676373476316          /profile/148  "
      ]
     },
     "execution_count": 51,
     "metadata": {},
     "output_type": "execute_result"
    }
   ],
   "source": [
    "#Code for creating data frame of testing data\n",
    "data = pd.read_csv('requests.csv')\n",
    "data.columns = ['timestamp', 'userID', 'sessionID', 'expiring', 'URL']\n",
    "data.head()"
   ]
  },
  {
   "cell_type": "code",
   "execution_count": 55,
   "metadata": {},
   "outputs": [
    {
     "data": {
      "text/html": [
       "<div>\n",
       "<style scoped>\n",
       "    .dataframe tbody tr th:only-of-type {\n",
       "        vertical-align: middle;\n",
       "    }\n",
       "\n",
       "    .dataframe tbody tr th {\n",
       "        vertical-align: top;\n",
       "    }\n",
       "\n",
       "    .dataframe thead th {\n",
       "        text-align: right;\n",
       "    }\n",
       "</style>\n",
       "<table border=\"1\" class=\"dataframe\">\n",
       "  <thead>\n",
       "    <tr style=\"text-align: right;\">\n",
       "      <th></th>\n",
       "      <th>URL</th>\n",
       "    </tr>\n",
       "  </thead>\n",
       "  <tbody>\n",
       "    <tr>\n",
       "      <th>user-1003</th>\n",
       "      <td>/chat/send/442</td>\n",
       "    </tr>\n",
       "    <tr>\n",
       "      <th>user-1005</th>\n",
       "      <td>/profile/407</td>\n",
       "    </tr>\n",
       "    <tr>\n",
       "      <th>user-1003</th>\n",
       "      <td>/chat/send/969</td>\n",
       "    </tr>\n",
       "    <tr>\n",
       "      <th>user-65</th>\n",
       "      <td>/searchUsers?page=0</td>\n",
       "    </tr>\n",
       "    <tr>\n",
       "      <th>user-1005</th>\n",
       "      <td>/profile/148</td>\n",
       "    </tr>\n",
       "    <tr>\n",
       "      <th>...</th>\n",
       "      <td>...</td>\n",
       "    </tr>\n",
       "    <tr>\n",
       "      <th>user-629</th>\n",
       "      <td>/profile/572</td>\n",
       "    </tr>\n",
       "    <tr>\n",
       "      <th>user-629</th>\n",
       "      <td>/conversation/572</td>\n",
       "    </tr>\n",
       "    <tr>\n",
       "      <th>user-629</th>\n",
       "      <td>/conversation/572/markAsRead</td>\n",
       "    </tr>\n",
       "    <tr>\n",
       "      <th>user-1005</th>\n",
       "      <td>/profile/995</td>\n",
       "    </tr>\n",
       "    <tr>\n",
       "      <th>user-1005</th>\n",
       "      <td>/profile/380</td>\n",
       "    </tr>\n",
       "  </tbody>\n",
       "</table>\n",
       "<p>263211 rows × 1 columns</p>\n",
       "</div>"
      ],
      "text/plain": [
       "                                      URL\n",
       " user-1003                 /chat/send/442\n",
       " user-1005                   /profile/407\n",
       " user-1003                 /chat/send/969\n",
       " user-65              /searchUsers?page=0\n",
       " user-1005                   /profile/148\n",
       "...                                   ...\n",
       " user-629                    /profile/572\n",
       " user-629               /conversation/572\n",
       " user-629    /conversation/572/markAsRead\n",
       " user-1005                   /profile/995\n",
       " user-1005                   /profile/380\n",
       "\n",
       "[263211 rows x 1 columns]"
      ]
     },
     "execution_count": 55,
     "metadata": {},
     "output_type": "execute_result"
    }
   ],
   "source": [
    "users = list(data['userID'])\n",
    "allUsers = data.set_index(['userID']).rename_axis(None)\n",
    "allUsers = allUsers.drop(columns=['timestamp', 'sessionID', 'expiring'])\n",
    "allUsers\n"
   ]
  },
  {
   "cell_type": "code",
   "execution_count": 56,
   "metadata": {},
   "outputs": [
    {
     "data": {
      "text/html": [
       "<div>\n",
       "<style scoped>\n",
       "    .dataframe tbody tr th:only-of-type {\n",
       "        vertical-align: middle;\n",
       "    }\n",
       "\n",
       "    .dataframe tbody tr th {\n",
       "        vertical-align: top;\n",
       "    }\n",
       "\n",
       "    .dataframe thead th {\n",
       "        text-align: right;\n",
       "    }\n",
       "</style>\n",
       "<table border=\"1\" class=\"dataframe\">\n",
       "  <thead>\n",
       "    <tr style=\"text-align: right;\">\n",
       "      <th></th>\n",
       "      <th>URL</th>\n",
       "    </tr>\n",
       "  </thead>\n",
       "  <tbody>\n",
       "    <tr>\n",
       "      <th>user-10</th>\n",
       "      <td>/login, /searchUsers?page=0, /profile/372, /c...</td>\n",
       "    </tr>\n",
       "    <tr>\n",
       "      <th>user-100</th>\n",
       "      <td>/login, /searchUsers?page=0, /profile/716, /p...</td>\n",
       "    </tr>\n",
       "    <tr>\n",
       "      <th>user-1000</th>\n",
       "      <td>/login, /searchUsers?page=0, /profile/626, /c...</td>\n",
       "    </tr>\n",
       "    <tr>\n",
       "      <th>user-1001</th>\n",
       "      <td>/login, /searchUsers?page=0, /profile/117, /p...</td>\n",
       "    </tr>\n",
       "    <tr>\n",
       "      <th>user-1002</th>\n",
       "      <td>/login, /searchUsers?page=0, /profile/162, /c...</td>\n",
       "    </tr>\n",
       "    <tr>\n",
       "      <th>...</th>\n",
       "      <td>...</td>\n",
       "    </tr>\n",
       "    <tr>\n",
       "      <th>user-995</th>\n",
       "      <td>/login, /searchUsers?page=0, /profile/337, /p...</td>\n",
       "    </tr>\n",
       "    <tr>\n",
       "      <th>user-996</th>\n",
       "      <td>/login, /searchUsers?page=0, /profile/642, /p...</td>\n",
       "    </tr>\n",
       "    <tr>\n",
       "      <th>user-997</th>\n",
       "      <td>/login, /searchUsers?page=0, /profile/760, /c...</td>\n",
       "    </tr>\n",
       "    <tr>\n",
       "      <th>user-998</th>\n",
       "      <td>/login, /searchUsers?page=0, /profile/944, /p...</td>\n",
       "    </tr>\n",
       "    <tr>\n",
       "      <th>user-999</th>\n",
       "      <td>/login, /searchUsers?page=0, /profile/243, /c...</td>\n",
       "    </tr>\n",
       "  </tbody>\n",
       "</table>\n",
       "<p>1004 rows × 1 columns</p>\n",
       "</div>"
      ],
      "text/plain": [
       "                                                          URL\n",
       " user-10     /login, /searchUsers?page=0, /profile/372, /c...\n",
       " user-100    /login, /searchUsers?page=0, /profile/716, /p...\n",
       " user-1000   /login, /searchUsers?page=0, /profile/626, /c...\n",
       " user-1001   /login, /searchUsers?page=0, /profile/117, /p...\n",
       " user-1002   /login, /searchUsers?page=0, /profile/162, /c...\n",
       "...                                                       ...\n",
       " user-995    /login, /searchUsers?page=0, /profile/337, /p...\n",
       " user-996    /login, /searchUsers?page=0, /profile/642, /p...\n",
       " user-997    /login, /searchUsers?page=0, /profile/760, /c...\n",
       " user-998    /login, /searchUsers?page=0, /profile/944, /p...\n",
       " user-999    /login, /searchUsers?page=0, /profile/243, /c...\n",
       "\n",
       "[1004 rows x 1 columns]"
      ]
     },
     "execution_count": 56,
     "metadata": {},
     "output_type": "execute_result"
    }
   ],
   "source": [
    "df = allUsers.groupby( level=0).agg(','.join)\n",
    "df"
   ]
  },
  {
   "cell_type": "code",
   "execution_count": 84,
   "metadata": {},
   "outputs": [],
   "source": [
    "#This doesnt really do anything, trying to turn URL into strings\n",
    "df['URL'] = df['URL'].astype(str)\n",
    "\n",
    "\n",
    "#pandas stores strings as object, so str.split should work\n",
    "df['URL'].dtype"
   ]
  },
  {
   "cell_type": "code",
   "execution_count": null,
   "metadata": {},
   "outputs": [],
   "source": []
  },
  {
   "cell_type": "code",
   "execution_count": null,
   "metadata": {},
   "outputs": [],
   "source": []
  },
  {
   "cell_type": "code",
   "execution_count": null,
   "metadata": {},
   "outputs": [],
   "source": []
  },
  {
   "cell_type": "code",
   "execution_count": null,
   "metadata": {},
   "outputs": [],
   "source": []
  },
  {
   "cell_type": "code",
   "execution_count": null,
   "metadata": {},
   "outputs": [],
   "source": []
  },
  {
   "cell_type": "code",
   "execution_count": null,
   "metadata": {},
   "outputs": [],
   "source": []
  },
  {
   "cell_type": "code",
   "execution_count": 88,
   "metadata": {},
   "outputs": [
    {
     "data": {
      "image/png": "[encoded data removed]",
      "text/plain": [
       "<Figure size 640x480 with 1 Axes>"
      ]
     },
     "metadata": {},
     "output_type": "display_data"
    }
   ],
   "source": [
    "#elbow method to find appropriate nbr of clusters\n",
    "x = encoded\n",
    "wcss = []\n",
    "for i in range(1,11):\n",
    "    kmeans = KMeans(n_clusters=i, init='k-means++', max_iter=300, n_init=10, random_state=0)\n",
    "    kmeans.fit(x)\n",
    "    wcss.append(kmeans.inertia_)\n",
    "\n",
    "plt.plot(range(1,11), wcss)\n",
    "plt.title('Elbow method')\n",
    "plt.xlabel('Number of clusters')\n",
    "plt.ylabel('WSCC')\n",
    "plt.show()"
   ]
  }
 ],
 "metadata": {
  "kernelspec": {
   "display_name": "base",
   "language": "python",
   "name": "python3"
  },
  "language_info": {
   "codemirror_mode": {
    "name": "ipython",
    "version": 3
   },
   "file_extension": ".py",
   "mimetype": "text/x-python",
   "name": "python",
   "nbconvert_exporter": "python",
   "pygments_lexer": "ipython3",
   "version": "3.9.13"
  },
  "orig_nbformat": 4,
  "vscode": {
   "interpreter": {
    "hash": "3fa6f82468f97c94762da00771b641cd6e795bf4a61ec307ed33d35dfc222882"
   }
  }
 },
 "nbformat": 4,
 "nbformat_minor": 2
}
