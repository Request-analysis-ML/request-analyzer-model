{
 "cells": [
  {
   "cell_type": "code",
   "execution_count": null,
   "metadata": {},
   "outputs": [],
   "source": [
    "import pandas as pd\n",
    "import matplotlib.pyplot as plt\n",
    "import numpy as np"
   ]
  },
  {
   "cell_type": "code",
   "execution_count": null,
   "metadata": {},
   "outputs": [],
   "source": [
    "#Code for creating data frame of testing data\n",
    "data = pd.read_csv('requests.csv')\n",
    "data.columns = ['timestamp', 'userID', 'sessionID', 'expiring', 'URL']\n",
    "print(data)"
   ]
  },
  {
   "cell_type": "code",
   "execution_count": null,
   "metadata": {},
   "outputs": [],
   "source": [
    "users = list(data['userID'])\n",
    "allUsers = data.set_index(['userID']).rename_axis(None)\n",
    "allUsers = allUsers.drop(columns=['timestamp', 'sessionID', 'expiring'])\n",
    "df = allUsers.groupby( level=0).agg(','.join)\n",
    "df"
   ]
  }
 ],
 "metadata": {
  "kernelspec": {
   "display_name": ".venv",
   "language": "python",
   "name": "python3"
  },
  "language_info": {
   "name": "python",
   "version": "3.11.1"
  },
  "orig_nbformat": 4,
  "vscode": {
   "interpreter": {
    "hash": "358d9c4cbe3c82e8088e2aab0b6d458f5d93999a61fa6b4f630a6be4d8773c80"
   }
  }
 },
 "nbformat": 4,
 "nbformat_minor": 2
}
