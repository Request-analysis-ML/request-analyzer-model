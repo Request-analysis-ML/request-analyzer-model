{
 "cells": [
  {
   "cell_type": "code",
   "execution_count": 2,
   "metadata": {},
   "outputs": [],
   "source": [
    "#import api_files.ml_library as calc\n",
    "import pandas as pd\n",
    "from notebooks.train_test_divide import extract_spammers_scrapers, extract_normal, split_train_test\n",
    "from sklearn.feature_extraction.text import TfidfVectorizer, CountVectorizer, HashingVectorizer\n",
    "import os\n",
    "\n",
    "path = os.path.dirname(os.path.abspath(\"__file__\"))\n",
    "dir = path.replace('notebooks', 'api_files')\n",
    "os.chdir(dir)\n",
    "from api_files.ml_library import trim, read_csv_file, clean_reqlogs, extract_users, split_user_df, calc_avg_timediff, avg_tokens_5mins, longest_consec, get_variance_score, sequence_time_length"
   ]
  },
  {
   "cell_type": "code",
   "execution_count": 6,
   "metadata": {},
   "outputs": [],
   "source": [
    "\"\"\"Code for fetching the data\"\"\"\n",
    "#Fetch data from csv file\n",
    "data = trim(read_csv_file('csv_files/requests.csv'))\n",
    "#Extracts a list of all unique users in dataframe\n",
    "users = extract_users(data)\n",
    "\n",
    "#Create a datachunk for testing the API\n",
    "df_chunks = split_user_df(data, users[1], 28) \n",
    "df_chunks[1].to_csv('csv_files/datachunk.csv', index=False)\n",
    "\n",
    "vect = HashingVectorizer(norm=None, alternate_sign=False)"
   ]
  },
  {
   "cell_type": "code",
   "execution_count": null,
   "metadata": {},
   "outputs": [],
   "source": [
    "#32893 requests made by user-1003\n",
    "data.loc[data['userID'] == 'user-1003']\n",
    "\n",
    "#32714 requests made by user-1004\n",
    "data.loc[data['userID'] == 'user-1004']\n",
    "\n",
    "#68413 requests made by user-1005\n",
    "data.loc[data['userID'] == 'user-1005']"
   ]
  },
  {
   "cell_type": "code",
   "execution_count": 6,
   "metadata": {},
   "outputs": [],
   "source": [
    "\"\"\"\n",
    "Code for creating csv-file containing information about average request frequency, average number of tokens per 5 mins, \n",
    "longest consecutive chain of repetitive requests for every chunk of 50 requests for each user\n",
    "\"\"\"\n",
    "\n",
    "df_calculations = pd.DataFrame()\n",
    "for user in users:\n",
    "    data_chunks = split_user_df(data, user, 30)\n",
    "    avg_req_frequences = []\n",
    "    avg_tokens = []\n",
    "    repetitions = []\n",
    "    var_scores = []\n",
    "    sequence_time = []\n",
    "\n",
    "    for i in range(0, len(data_chunks)):\n",
    "        avg_req_frequences.append(calc_avg_timediff(data_chunks[i]))\n",
    "        avg_tokens.append(avg_tokens_5mins(data_chunks[i]))\n",
    "        repetitions.append(longest_consec(data_chunks[i]))\n",
    "        var_scores.append(get_variance_score(data_chunks[i], vect))\n",
    "        sequence_time.append(sequence_time_length(data_chunks[i]))\n",
    "    \n",
    "    user_df = pd.DataFrame()\n",
    "    user_df['request_freq'] = avg_req_frequences\n",
    "    user_df['avg_tokens'] = avg_tokens\n",
    "    user_df['longest_consec'] = repetitions\n",
    "    user_df['var_score'] = var_scores\n",
    "    user_df['sequence_time'] = sequence_time\n",
    "    user_df['user'] = user\n",
    "    df_calculations = pd.concat([df_calculations, user_df])\n",
    "\n",
    "df_calculations.reset_index(inplace=True)\n",
    "df_calculations = df_calculations.drop(columns='index')\n",
    "df_calculations.to_csv('csv_files/calculations80.csv', index=False) "
   ]
  },
  {
   "cell_type": "code",
   "execution_count": null,
   "metadata": {},
   "outputs": [],
   "source": [
    "data_calc = pd.read_csv('csv_files/calculations20.csv')\n",
    "data_calc"
   ]
  },
  {
   "cell_type": "code",
   "execution_count": 8,
   "metadata": {},
   "outputs": [],
   "source": [
    "df_spam = extract_spammers_scrapers(data_calc)\n",
    "split_train_test(extract_normal(data_calc, df_spam), df_spam)"
   ]
  }
 ],
 "metadata": {
  "kernelspec": {
   "display_name": ".venv",
   "language": "python",
   "name": "python3"
  },
  "language_info": {
   "codemirror_mode": {
    "name": "ipython",
    "version": 3
   },
   "file_extension": ".py",
   "mimetype": "text/x-python",
   "name": "python",
   "nbconvert_exporter": "python",
   "pygments_lexer": "ipython3",
   "version": "3.11.1"
  },
  "orig_nbformat": 4
 },
 "nbformat": 4,
 "nbformat_minor": 2
}
