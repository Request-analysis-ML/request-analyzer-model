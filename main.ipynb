{
 "cells": [
  {
   "cell_type": "code",
   "execution_count": 1,
   "metadata": {},
   "outputs": [],
   "source": [
    "#import api_files.ml_library as calc\n",
    "import pandas as pd\n",
    "from notebooks.train_test_divide import extract_spammers_scrapers, extract_normal, split_train_test\n",
    "from sklearn.feature_extraction.text import TfidfVectorizer, CountVectorizer, HashingVectorizer\n",
    "import os\n",
    "\n",
    "path = os.path.dirname(os.path.abspath(\"__file__\"))\n",
    "dir = path.replace('notebooks', 'api_files')\n",
    "os.chdir(dir)\n",
    "from api_files.ml_library import read_csv_file, clean_reqlogs, extract_users, split_user_df, calc_avg_timediff, avg_tokens_5mins, longest_consec, get_variance_score, sequence_time_length"
   ]
  },
  {
   "cell_type": "code",
   "execution_count": 2,
   "metadata": {},
   "outputs": [],
   "source": [
    "#Function for removing spaces in original dataset\n",
    "def trim(dataset):\n",
    "    trim = lambda x: x.strip() if type(x) is str else x\n",
    "    return dataset.applymap(trim)"
   ]
  },
  {
   "cell_type": "code",
   "execution_count": 3,
   "metadata": {},
   "outputs": [],
   "source": [
    "\"\"\"Code for fetching the data\"\"\"\n",
    "#Fetch data from csv file\n",
    "data = trim(read_csv_file('csv_files/requests.csv'))\n",
    "#Extracts a list of all unique users in dataframe\n",
    "users = extract_users(data)\n",
    "\n",
    "#Create a datachunk for testing the API\n",
    "df_chunks = split_user_df(data, users[0]) \n",
    "df_chunks[0].to_csv('csv_files/datachunk.csv', index=False)\n",
    "\n",
    "#vect = calc.create_vectorizer(data)\n",
    "\n",
    "vect = HashingVectorizer(norm=None, alternate_sign=False)"
   ]
  },
  {
   "cell_type": "code",
   "execution_count": 4,
   "metadata": {},
   "outputs": [
    {
     "data": {
      "text/html": [
       "<div>\n",
       "<style scoped>\n",
       "    .dataframe tbody tr th:only-of-type {\n",
       "        vertical-align: middle;\n",
       "    }\n",
       "\n",
       "    .dataframe tbody tr th {\n",
       "        vertical-align: top;\n",
       "    }\n",
       "\n",
       "    .dataframe thead th {\n",
       "        text-align: right;\n",
       "    }\n",
       "</style>\n",
       "<table border=\"1\" class=\"dataframe\">\n",
       "  <thead>\n",
       "    <tr style=\"text-align: right;\">\n",
       "      <th></th>\n",
       "      <th>timestamp</th>\n",
       "      <th>userID</th>\n",
       "      <th>sessionID</th>\n",
       "      <th>expiring</th>\n",
       "      <th>URL</th>\n",
       "    </tr>\n",
       "  </thead>\n",
       "  <tbody>\n",
       "    <tr>\n",
       "      <th>0</th>\n",
       "      <td>1676373343936</td>\n",
       "      <td>user-1003</td>\n",
       "      <td>c85cbd00-d2fc-4cda-9f5c-66616847d851</td>\n",
       "      <td>1676373495816</td>\n",
       "      <td>/chat/send/442</td>\n",
       "    </tr>\n",
       "    <tr>\n",
       "      <th>2</th>\n",
       "      <td>1676373344456</td>\n",
       "      <td>user-1003</td>\n",
       "      <td>c85cbd00-d2fc-4cda-9f5c-66616847d851</td>\n",
       "      <td>1676373495816</td>\n",
       "      <td>/chat/send/969</td>\n",
       "    </tr>\n",
       "    <tr>\n",
       "      <th>26</th>\n",
       "      <td>1676373348109</td>\n",
       "      <td>user-1003</td>\n",
       "      <td>c85cbd00-d2fc-4cda-9f5c-66616847d851</td>\n",
       "      <td>1676373495816</td>\n",
       "      <td>/searchUsers?page=2036</td>\n",
       "    </tr>\n",
       "    <tr>\n",
       "      <th>29</th>\n",
       "      <td>1676373348626</td>\n",
       "      <td>user-1003</td>\n",
       "      <td>c85cbd00-d2fc-4cda-9f5c-66616847d851</td>\n",
       "      <td>1676373495816</td>\n",
       "      <td>/chat/send/647</td>\n",
       "    </tr>\n",
       "    <tr>\n",
       "      <th>31</th>\n",
       "      <td>1676373349146</td>\n",
       "      <td>user-1003</td>\n",
       "      <td>c85cbd00-d2fc-4cda-9f5c-66616847d851</td>\n",
       "      <td>1676373495816</td>\n",
       "      <td>/chat/send/886</td>\n",
       "    </tr>\n",
       "    <tr>\n",
       "      <th>...</th>\n",
       "      <td>...</td>\n",
       "      <td>...</td>\n",
       "      <td>...</td>\n",
       "      <td>...</td>\n",
       "      <td>...</td>\n",
       "    </tr>\n",
       "    <tr>\n",
       "      <th>263167</th>\n",
       "      <td>1676444978796</td>\n",
       "      <td>user-1003</td>\n",
       "      <td>38b28ccc-4046-4dbe-bc7b-794319da0a73</td>\n",
       "      <td>1676445198086</td>\n",
       "      <td>/chat/send/934</td>\n",
       "    </tr>\n",
       "    <tr>\n",
       "      <th>263194</th>\n",
       "      <td>1676444987435</td>\n",
       "      <td>user-1003</td>\n",
       "      <td>38b28ccc-4046-4dbe-bc7b-794319da0a73</td>\n",
       "      <td>1676445198086</td>\n",
       "      <td>/searchUsers?page=11735</td>\n",
       "    </tr>\n",
       "    <tr>\n",
       "      <th>263196</th>\n",
       "      <td>1676444987946</td>\n",
       "      <td>user-1003</td>\n",
       "      <td>38b28ccc-4046-4dbe-bc7b-794319da0a73</td>\n",
       "      <td>1676445198086</td>\n",
       "      <td>/chat/send/474</td>\n",
       "    </tr>\n",
       "    <tr>\n",
       "      <th>263202</th>\n",
       "      <td>1676444990327</td>\n",
       "      <td>user-1003</td>\n",
       "      <td>38b28ccc-4046-4dbe-bc7b-794319da0a73</td>\n",
       "      <td>1676445198086</td>\n",
       "      <td>/searchUsers?page=11736</td>\n",
       "    </tr>\n",
       "    <tr>\n",
       "      <th>263205</th>\n",
       "      <td>1676444990846</td>\n",
       "      <td>user-1003</td>\n",
       "      <td>38b28ccc-4046-4dbe-bc7b-794319da0a73</td>\n",
       "      <td>1676445198086</td>\n",
       "      <td>/chat/send/834</td>\n",
       "    </tr>\n",
       "  </tbody>\n",
       "</table>\n",
       "<p>32893 rows × 5 columns</p>\n",
       "</div>"
      ],
      "text/plain": [
       "            timestamp     userID                             sessionID   \n",
       "0       1676373343936  user-1003  c85cbd00-d2fc-4cda-9f5c-66616847d851  \\\n",
       "2       1676373344456  user-1003  c85cbd00-d2fc-4cda-9f5c-66616847d851   \n",
       "26      1676373348109  user-1003  c85cbd00-d2fc-4cda-9f5c-66616847d851   \n",
       "29      1676373348626  user-1003  c85cbd00-d2fc-4cda-9f5c-66616847d851   \n",
       "31      1676373349146  user-1003  c85cbd00-d2fc-4cda-9f5c-66616847d851   \n",
       "...               ...        ...                                   ...   \n",
       "263167  1676444978796  user-1003  38b28ccc-4046-4dbe-bc7b-794319da0a73   \n",
       "263194  1676444987435  user-1003  38b28ccc-4046-4dbe-bc7b-794319da0a73   \n",
       "263196  1676444987946  user-1003  38b28ccc-4046-4dbe-bc7b-794319da0a73   \n",
       "263202  1676444990327  user-1003  38b28ccc-4046-4dbe-bc7b-794319da0a73   \n",
       "263205  1676444990846  user-1003  38b28ccc-4046-4dbe-bc7b-794319da0a73   \n",
       "\n",
       "             expiring                      URL  \n",
       "0       1676373495816           /chat/send/442  \n",
       "2       1676373495816           /chat/send/969  \n",
       "26      1676373495816   /searchUsers?page=2036  \n",
       "29      1676373495816           /chat/send/647  \n",
       "31      1676373495816           /chat/send/886  \n",
       "...               ...                      ...  \n",
       "263167  1676445198086           /chat/send/934  \n",
       "263194  1676445198086  /searchUsers?page=11735  \n",
       "263196  1676445198086           /chat/send/474  \n",
       "263202  1676445198086  /searchUsers?page=11736  \n",
       "263205  1676445198086           /chat/send/834  \n",
       "\n",
       "[32893 rows x 5 columns]"
      ]
     },
     "execution_count": 4,
     "metadata": {},
     "output_type": "execute_result"
    }
   ],
   "source": [
    "#32893 requests made by user-1003\n",
    "data.loc[data['userID'] == 'user-1003']"
   ]
  },
  {
   "cell_type": "code",
   "execution_count": null,
   "metadata": {},
   "outputs": [],
   "source": [
    "#32714 requests made by user-1004\n",
    "data.loc[data['userID'] == 'user-1004']"
   ]
  },
  {
   "cell_type": "code",
   "execution_count": null,
   "metadata": {},
   "outputs": [],
   "source": [
    "#68413 requests made by user-1005\n",
    "data.loc[data['userID'] == 'user-1005']"
   ]
  },
  {
   "cell_type": "code",
   "execution_count": 4,
   "metadata": {},
   "outputs": [],
   "source": [
    "\"\"\"\n",
    "Code for creating csv-file containing information about average request frequency, average number of tokens per 5 mins, \n",
    "longest consecutive chain of repetitive requests for every chunk of 50 requests for each user\n",
    "\"\"\"\n",
    "\n",
    "df_calculations = pd.DataFrame()\n",
    "for user in users:\n",
    "    data_chunks = split_user_df(data, user)\n",
    "    avg_req_frequences = []\n",
    "    avg_tokens = []\n",
    "    repetitions = []\n",
    "    var_scores = []\n",
    "    sequence_time = []\n",
    "\n",
    "    for i in range(0, len(data_chunks)):\n",
    "        avg_req_frequences.append(calc_avg_timediff(data_chunks[i]))\n",
    "        avg_tokens.append(avg_tokens_5mins(data_chunks[i]))\n",
    "        repetitions.append(longest_consec(data_chunks[i]))\n",
    "        var_scores.append(get_variance_score(data_chunks[i], vect))\n",
    "        sequence_time.append(sequence_time_length(data_chunks[i]))\n",
    "    \n",
    "    user_df = pd.DataFrame()\n",
    "    user_df['request_freq'] = avg_req_frequences\n",
    "    user_df['avg_tokens'] = avg_tokens\n",
    "    user_df['longest_consec'] = repetitions\n",
    "    user_df['var_score'] = var_scores\n",
    "    user_df['sequence_time'] = sequence_time\n",
    "    user_df['user'] = user\n",
    "    df_calculations = pd.concat([df_calculations, user_df])\n",
    "\n",
    "df_calculations.reset_index(inplace=True)\n",
    "df_calculations = df_calculations.drop(columns='index')\n",
    "df_calculations.to_csv('csv_files/calculations.csv', index=False) "
   ]
  },
  {
   "cell_type": "code",
   "execution_count": 16,
   "metadata": {},
   "outputs": [],
   "source": [
    "data_calc = pd.read_csv('csv_files/calculations10.csv')"
   ]
  },
  {
   "cell_type": "code",
   "execution_count": 17,
   "metadata": {},
   "outputs": [],
   "source": [
    "df_spam = extract_spammers_scrapers(data_calc)\n",
    "split_train_test(extract_normal(data_calc, df_spam), df_spam)"
   ]
  },
  {
   "cell_type": "code",
   "execution_count": 8,
   "metadata": {},
   "outputs": [
    {
     "data": {
      "text/plain": [
       "15.0"
      ]
     },
     "execution_count": 8,
     "metadata": {},
     "output_type": "execute_result"
    }
   ],
   "source": [
    "d = pd.read_csv('csv_files/datachunk.csv')\n",
    "longest_consec(d)\n"
   ]
  }
 ],
 "metadata": {
  "kernelspec": {
   "display_name": ".venv",
   "language": "python",
   "name": "python3"
  },
  "language_info": {
   "codemirror_mode": {
    "name": "ipython",
    "version": 3
   },
   "file_extension": ".py",
   "mimetype": "text/x-python",
   "name": "python",
   "nbconvert_exporter": "python",
   "pygments_lexer": "ipython3",
   "version": "3.11.1"
  },
  "orig_nbformat": 4
 },
 "nbformat": 4,
 "nbformat_minor": 2
}
